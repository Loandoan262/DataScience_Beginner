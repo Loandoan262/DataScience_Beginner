{
 "cells": [
  {
   "cell_type": "markdown",
   "id": "1bb244e0-fbec-4252-88a4-12866242c722",
   "metadata": {},
   "source": [
    "# Email Report Automation"
   ]
  },
  {
   "cell_type": "raw",
   "id": "8628e570-e232-4d70-96d3-933874dc9397",
   "metadata": {},
   "source": [
    "Imagine you are now living in February 1968 and every month you receive the number of car sales for the previous month. \n",
    "Your boss asks you: \n",
    "1. tell him the sales figures for the previous month e.g. Jan 1968\n",
    "2. Give him an overview of the sales trend for the same month in previous years, e.g. sales in January 1960, January 1961, ... January 1968"
   ]
  },
  {
   "cell_type": "code",
   "execution_count": 4,
   "id": "62a77164-9995-4a44-ae1b-50f69cbaaad3",
   "metadata": {},
   "outputs": [
    {
     "data": {
      "text/html": [
       "<div>\n",
       "<style scoped>\n",
       "    .dataframe tbody tr th:only-of-type {\n",
       "        vertical-align: middle;\n",
       "    }\n",
       "\n",
       "    .dataframe tbody tr th {\n",
       "        vertical-align: top;\n",
       "    }\n",
       "\n",
       "    .dataframe thead th {\n",
       "        text-align: right;\n",
       "    }\n",
       "</style>\n",
       "<table border=\"1\" class=\"dataframe\">\n",
       "  <thead>\n",
       "    <tr style=\"text-align: right;\">\n",
       "      <th></th>\n",
       "      <th>Month</th>\n",
       "      <th>Sales</th>\n",
       "    </tr>\n",
       "  </thead>\n",
       "  <tbody>\n",
       "    <tr>\n",
       "      <th>0</th>\n",
       "      <td>1960-01</td>\n",
       "      <td>6550</td>\n",
       "    </tr>\n",
       "    <tr>\n",
       "      <th>1</th>\n",
       "      <td>1960-02</td>\n",
       "      <td>8728</td>\n",
       "    </tr>\n",
       "    <tr>\n",
       "      <th>2</th>\n",
       "      <td>1960-03</td>\n",
       "      <td>12026</td>\n",
       "    </tr>\n",
       "    <tr>\n",
       "      <th>3</th>\n",
       "      <td>1960-04</td>\n",
       "      <td>14395</td>\n",
       "    </tr>\n",
       "    <tr>\n",
       "      <th>4</th>\n",
       "      <td>1960-05</td>\n",
       "      <td>14587</td>\n",
       "    </tr>\n",
       "    <tr>\n",
       "      <th>...</th>\n",
       "      <td>...</td>\n",
       "      <td>...</td>\n",
       "    </tr>\n",
       "    <tr>\n",
       "      <th>103</th>\n",
       "      <td>1968-08</td>\n",
       "      <td>16722</td>\n",
       "    </tr>\n",
       "    <tr>\n",
       "      <th>104</th>\n",
       "      <td>1968-09</td>\n",
       "      <td>14385</td>\n",
       "    </tr>\n",
       "    <tr>\n",
       "      <th>105</th>\n",
       "      <td>1968-10</td>\n",
       "      <td>21342</td>\n",
       "    </tr>\n",
       "    <tr>\n",
       "      <th>106</th>\n",
       "      <td>1968-11</td>\n",
       "      <td>17180</td>\n",
       "    </tr>\n",
       "    <tr>\n",
       "      <th>107</th>\n",
       "      <td>1968-12</td>\n",
       "      <td>14577</td>\n",
       "    </tr>\n",
       "  </tbody>\n",
       "</table>\n",
       "<p>108 rows × 2 columns</p>\n",
       "</div>"
      ],
      "text/plain": [
       "       Month  Sales\n",
       "0    1960-01   6550\n",
       "1    1960-02   8728\n",
       "2    1960-03  12026\n",
       "3    1960-04  14395\n",
       "4    1960-05  14587\n",
       "..       ...    ...\n",
       "103  1968-08  16722\n",
       "104  1968-09  14385\n",
       "105  1968-10  21342\n",
       "106  1968-11  17180\n",
       "107  1968-12  14577\n",
       "\n",
       "[108 rows x 2 columns]"
      ]
     },
     "execution_count": 4,
     "metadata": {},
     "output_type": "execute_result"
    }
   ],
   "source": [
    "df = pd.read_csv(\"monthly-car-sales.csv\")\n",
    "df"
   ]
  },
  {
   "cell_type": "code",
   "execution_count": null,
   "id": "420418f2-6523-44f9-8ab1-893ecbde01c5",
   "metadata": {},
   "outputs": [],
   "source": []
  }
 ],
 "metadata": {
  "kernelspec": {
   "display_name": "Python 3 (ipykernel)",
   "language": "python",
   "name": "python3"
  },
  "language_info": {
   "codemirror_mode": {
    "name": "ipython",
    "version": 3
   },
   "file_extension": ".py",
   "mimetype": "text/x-python",
   "name": "python",
   "nbconvert_exporter": "python",
   "pygments_lexer": "ipython3",
   "version": "3.11.7"
  }
 },
 "nbformat": 4,
 "nbformat_minor": 5
}
