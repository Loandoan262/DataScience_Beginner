{
 "cells": [
  {
   "cell_type": "code",
   "execution_count": 1,
   "id": "e8a2bcb3-f978-4051-a167-e42a79a34889",
   "metadata": {},
   "outputs": [],
   "source": [
    "str = \"Hello ngay moi\""
   ]
  },
  {
   "cell_type": "code",
   "execution_count": 3,
   "id": "957fe1a2-b022-473e-9f41-e563920fd713",
   "metadata": {},
   "outputs": [
    {
     "data": {
      "text/plain": [
       "False"
      ]
     },
     "execution_count": 3,
     "metadata": {},
     "output_type": "execute_result"
    }
   ],
   "source": [
    "\"hello\" in str"
   ]
  },
  {
   "cell_type": "code",
   "execution_count": 4,
   "id": "e62fdf0c-1cdd-417d-b5a8-d88580495de1",
   "metadata": {},
   "outputs": [
    {
     "data": {
      "text/plain": [
       "'hello ngay moi'"
      ]
     },
     "execution_count": 4,
     "metadata": {},
     "output_type": "execute_result"
    }
   ],
   "source": [
    "str.lower()"
   ]
  },
  {
   "cell_type": "code",
   "execution_count": 5,
   "id": "6ac755a7-a8ef-4c7e-854f-eb77371583e5",
   "metadata": {},
   "outputs": [
    {
     "data": {
      "text/plain": [
       "'HELLO NGAY MOI'"
      ]
     },
     "execution_count": 5,
     "metadata": {},
     "output_type": "execute_result"
    }
   ],
   "source": [
    "str.upper()"
   ]
  },
  {
   "cell_type": "code",
   "execution_count": 6,
   "id": "8040f516-f18f-4c90-bdf0-837ead58d4e6",
   "metadata": {},
   "outputs": [],
   "source": [
    "prices = {\n",
    "    \"box_of_spaghetti\" : 4,\n",
    "    \"lasagna\"  : 5,\n",
    "    \"hamburger\" : 2\n",
    "   }\n",
    "quantity = {\n",
    "    \"box_of_spaghetti\" : 6,\n",
    "    \"lasagna\"  : 10,\n",
    "    \"hamburger\" : 0\n",
    "    }\n",
    "\n",
    "money_spent = 0"
   ]
  },
  {
   "cell_type": "code",
   "execution_count": 10,
   "id": "daa11b36-0081-493a-a89a-12eb245f1d71",
   "metadata": {},
   "outputs": [
    {
     "name": "stdout",
     "output_type": "stream",
     "text": [
      "4\n",
      "5\n",
      "2\n"
     ]
    }
   ],
   "source": [
    "for q in quantity:\n",
    "    if prices[q] ...:\n",
    "        money_spent = money_spent + prices[q]*quantity[q]\n",
    "    else:\n",
    "        money_spent = money_spent"
   ]
  },
  {
   "cell_type": "code",
   "execution_count": 8,
   "id": "dea86aa5-e791-4061-84cf-dffd0d5fa00b",
   "metadata": {},
   "outputs": [
    {
     "data": {
      "text/plain": [
       "4"
      ]
     },
     "execution_count": 8,
     "metadata": {},
     "output_type": "execute_result"
    }
   ],
   "source": [
    "prices[q]"
   ]
  },
  {
   "cell_type": "code",
   "execution_count": 11,
   "id": "253977d8-baad-49e5-9d05-613ac751018d",
   "metadata": {},
   "outputs": [],
   "source": [
    "prices = {\n",
    "    \"box_of_spaghetti\" : 4,\n",
    "    \"lasagna\"  : 5,\n",
    "    \"hamburger\" : 2\n",
    "   }"
   ]
  },
  {
   "cell_type": "code",
   "execution_count": 12,
   "id": "029ff875-cb83-4a91-b73c-a4d12b4b8c02",
   "metadata": {},
   "outputs": [
    {
     "data": {
      "text/plain": [
       "4"
      ]
     },
     "execution_count": 12,
     "metadata": {},
     "output_type": "execute_result"
    }
   ],
   "source": [
    "prices[\"box_of_spaghetti\"]"
   ]
  },
  {
   "cell_type": "code",
   "execution_count": null,
   "id": "acc39f23-aa45-43a4-ab62-8d6d594786b1",
   "metadata": {},
   "outputs": [],
   "source": []
  }
 ],
 "metadata": {
  "kernelspec": {
   "display_name": "Python 3 (ipykernel)",
   "language": "python",
   "name": "python3"
  },
  "language_info": {
   "codemirror_mode": {
    "name": "ipython",
    "version": 3
   },
   "file_extension": ".py",
   "mimetype": "text/x-python",
   "name": "python",
   "nbconvert_exporter": "python",
   "pygments_lexer": "ipython3",
   "version": "3.11.7"
  }
 },
 "nbformat": 4,
 "nbformat_minor": 5
}
