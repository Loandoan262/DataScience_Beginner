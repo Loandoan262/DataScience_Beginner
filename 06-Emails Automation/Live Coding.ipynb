{
 "cells": [
  {
   "cell_type": "code",
   "execution_count": 2,
   "id": "c3f74005-118d-435f-b547-e2a3e61b83b2",
   "metadata": {},
   "outputs": [],
   "source": [
    "import os\n",
    "import yagmail\n",
    "#import smtplib\n",
    "#export EMAIL_PASSWORD=password"
   ]
  },
  {
   "cell_type": "code",
   "execution_count": 4,
   "id": "d4cc4a01-d891-4957-b73b-54ab79f6fd2a",
   "metadata": {},
   "outputs": [],
   "source": [
    "pw = os.getenv(\"EMAIL_PASSWORD\")"
   ]
  },
  {
   "cell_type": "code",
   "execution_count": 5,
   "id": "0004ac3b-e9c2-40c2-b0f5-2844305c24ea",
   "metadata": {},
   "outputs": [
    {
     "name": "stdout",
     "output_type": "stream",
     "text": [
      "Email sent\n"
     ]
    }
   ],
   "source": [
    "sender = \"minhloan.ftu@gmail.com\"\n",
    "receiver = \"loandoan.hsrw@gmail.com\"\n",
    "\n",
    "subject = \"EMAIL AUTOMATION TESTING\"\n",
    "\n",
    "contents = \"Hi, just a test. Thanks!\"\n",
    "\n",
    "gm = yagmail.SMTP(user=sender, password=pw)\n",
    "gm.send(to=receiver, subject=subject, contents=contents)\n",
    "print(\"Email sent\")"
   ]
  },
  {
   "cell_type": "code",
   "execution_count": 6,
   "id": "35499c3c-cd73-4336-9f9f-3cf080783faa",
   "metadata": {},
   "outputs": [],
   "source": [
    "import pandas as pd"
   ]
  },
  {
   "cell_type": "code",
   "execution_count": 7,
   "id": "f4b9e4ba-ce5e-4323-8fef-3d6c4f5cfaf4",
   "metadata": {},
   "outputs": [
    {
     "data": {
      "text/html": [
       "<div>\n",
       "<style scoped>\n",
       "    .dataframe tbody tr th:only-of-type {\n",
       "        vertical-align: middle;\n",
       "    }\n",
       "\n",
       "    .dataframe tbody tr th {\n",
       "        vertical-align: top;\n",
       "    }\n",
       "\n",
       "    .dataframe thead th {\n",
       "        text-align: right;\n",
       "    }\n",
       "</style>\n",
       "<table border=\"1\" class=\"dataframe\">\n",
       "  <thead>\n",
       "    <tr style=\"text-align: right;\">\n",
       "      <th></th>\n",
       "      <th>name</th>\n",
       "      <th>email</th>\n",
       "    </tr>\n",
       "  </thead>\n",
       "  <tbody>\n",
       "    <tr>\n",
       "      <th>0</th>\n",
       "      <td>Loan</td>\n",
       "      <td>loandoan.hsrw@gmail.com</td>\n",
       "    </tr>\n",
       "    <tr>\n",
       "      <th>1</th>\n",
       "      <td>Lilly</td>\n",
       "      <td>veganmath0@gmail.com</td>\n",
       "    </tr>\n",
       "  </tbody>\n",
       "</table>\n",
       "</div>"
      ],
      "text/plain": [
       "    name                     email\n",
       "0   Loan   loandoan.hsrw@gmail.com\n",
       "1  Lilly      veganmath0@gmail.com"
      ]
     },
     "execution_count": 7,
     "metadata": {},
     "output_type": "execute_result"
    }
   ],
   "source": [
    "contacts = pd.read_csv(\"contacts.csv\")\n",
    "contacts"
   ]
  },
  {
   "cell_type": "code",
   "execution_count": 13,
   "id": "9bb059e4-874c-4cf4-b933-b2b61787613d",
   "metadata": {},
   "outputs": [
    {
     "name": "stdout",
     "output_type": "stream",
     "text": [
      "Email sent!\n",
      "Email sent!\n"
     ]
    }
   ],
   "source": [
    "for index, row in contacts.iterrows():\n",
    "    #print(\"index: \", index)\n",
    "    #print(\"row: \", row)\n",
    "    #print(row[\"name\"])\n",
    "    #print(row[\"email\"])\n",
    "    sub = \"TEST 2 - EMAIL AUTOMATION\"\n",
    "    contents = \"Hi {}, sorry for testing!\".format(row[\"name\"])\n",
    "    yag = yagmail.SMTP(user=sender, password=pw)\n",
    "    yag.send(to=row[\"email\"], subject = sub, contents=contents)\n",
    "    print(\"Email sent!\")"
   ]
  },
  {
   "cell_type": "code",
   "execution_count": 14,
   "id": "68e65d68-a8dc-45cc-8ec2-ad7125c18acf",
   "metadata": {},
   "outputs": [
    {
     "name": "stdout",
     "output_type": "stream",
     "text": [
      "Email sent\n"
     ]
    }
   ],
   "source": [
    "sender = \"minhloan.ftu@gmail.com\"\n",
    "receiver = \"loandoan.hsrw@gmail.com\"\n",
    "\n",
    "subject = \"EMAIL AUTOMATION TESTING\"\n",
    "\n",
    "contents = [\"Hi, just a test. Thanks!\", \"contacts.csv\"]\n",
    "\n",
    "gm = yagmail.SMTP(user=sender, password=pw)\n",
    "gm.send(to=receiver, subject=subject, contents=contents)\n",
    "print(\"Email sent\")"
   ]
  },
  {
   "cell_type": "code",
   "execution_count": 16,
   "id": "b609adfa-217d-46fa-94e0-e78a0db488fc",
   "metadata": {},
   "outputs": [],
   "source": [
    "from datetime import datetime as dt"
   ]
  },
  {
   "cell_type": "code",
   "execution_count": 17,
   "id": "44226409-ddbc-4fb8-b82b-894bcc1c9861",
   "metadata": {},
   "outputs": [
    {
     "data": {
      "text/plain": [
       "datetime.datetime(2024, 5, 26, 7, 36, 5, 353225)"
      ]
     },
     "execution_count": 17,
     "metadata": {},
     "output_type": "execute_result"
    }
   ],
   "source": [
    "now = dt.now()\n",
    "now"
   ]
  },
  {
   "cell_type": "code",
   "execution_count": null,
   "id": "b6e7fbba-271e-45c1-a454-44d58eafe5e5",
   "metadata": {},
   "outputs": [],
   "source": [
    "if now.day == 27:\n",
    "    gm = yagmail.SMTP(user=sender, password=pw)\n",
    "    gm.send(to=receiver, subject=subject, contents=contents)"
   ]
  }
 ],
 "metadata": {
  "kernelspec": {
   "display_name": "Python 3 (ipykernel)",
   "language": "python",
   "name": "python3"
  },
  "language_info": {
   "codemirror_mode": {
    "name": "ipython",
    "version": 3
   },
   "file_extension": ".py",
   "mimetype": "text/x-python",
   "name": "python",
   "nbconvert_exporter": "python",
   "pygments_lexer": "ipython3",
   "version": "3.11.7"
  }
 },
 "nbformat": 4,
 "nbformat_minor": 5
}
