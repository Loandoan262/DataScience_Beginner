{
 "cells": [
  {
   "cell_type": "code",
   "execution_count": 6,
   "id": "51000f4a-0394-46df-98c0-d8a5aa897d6c",
   "metadata": {},
   "outputs": [
    {
     "name": "stdout",
     "output_type": "stream",
     "text": [
      "Welcome to the Number Guessing Game!\n",
      "I'm thinking of a number between 1 and 10.\n"
     ]
    },
    {
     "name": "stdin",
     "output_type": "stream",
     "text": [
      "Choose a difficulty. Type 'easy' or 'hard':  easy\n"
     ]
    },
    {
     "name": "stdout",
     "output_type": "stream",
     "text": [
      "You have 5 attempts remaining to guess the number.\n"
     ]
    },
    {
     "name": "stdin",
     "output_type": "stream",
     "text": [
      "Make a guess:  5\n"
     ]
    },
    {
     "name": "stdout",
     "output_type": "stream",
     "text": [
      "Too high.\n",
      "Guess again.\n",
      "You have 4 attempts remaining to guess the number.\n"
     ]
    },
    {
     "name": "stdin",
     "output_type": "stream",
     "text": [
      "Make a guess:  3\n"
     ]
    },
    {
     "name": "stdout",
     "output_type": "stream",
     "text": [
      "Too high.\n",
      "Guess again.\n",
      "You have 3 attempts remaining to guess the number.\n"
     ]
    },
    {
     "name": "stdin",
     "output_type": "stream",
     "text": [
      "Make a guess:  1\n"
     ]
    },
    {
     "name": "stdout",
     "output_type": "stream",
     "text": [
      "Too low.\n",
      "Guess again.\n",
      "You have 2 attempts remaining to guess the number.\n"
     ]
    },
    {
     "name": "stdin",
     "output_type": "stream",
     "text": [
      "Make a guess:  2\n"
     ]
    },
    {
     "name": "stdout",
     "output_type": "stream",
     "text": [
      "You got it! The answer was 2.\n"
     ]
    }
   ],
   "source": [
    "from random import randint\n",
    "\n",
    "EASY_LEVEL_TURNS = 5\n",
    "HARD_LEVEL_TURNS = 3\n",
    "\n",
    "#Function to check user's guess against actual answer.\n",
    "def check_answer(guess, answer, turns):\n",
    "    \"\"\"\n",
    "    Checks answer against guess. Returns the number of turns remaining.\n",
    "    \"\"\"\n",
    "    if guess > answer:\n",
    "        print(\"Too high.\")\n",
    "        return turns - 1\n",
    "    elif guess < answer:\n",
    "        print(\"Too low.\")\n",
    "        return turns - 1\n",
    "    else:\n",
    "        print(f\"You got it! The answer was {answer}.\")\n",
    "\n",
    "#Make function to set difficulty.\n",
    "def set_difficulty():\n",
    "    level = input(\"Choose a difficulty. Type 'easy' or 'hard': \")\n",
    "    if level == \"easy\":\n",
    "        return EASY_LEVEL_TURNS\n",
    "    else:\n",
    "        return HARD_LEVEL_TURNS\n",
    "\n",
    "def game():\n",
    "    #Choosing a random number between 1 and 10.\n",
    "    print(\"Welcome to the Number Guessing Game!\")\n",
    "    print(\"I'm thinking of a number between 1 and 10.\")\n",
    "    answer = randint(1, 10)\n",
    "\n",
    "    turns = set_difficulty()\n",
    "    #Repeat the guessing functionality if they get it wrong.\n",
    "    guess = 0\n",
    "    while guess != answer:\n",
    "        print(f\"You have {turns} attempts remaining to guess the number.\")\n",
    "\n",
    "        #Let the user guess a number.\n",
    "        guess = int(input(\"Make a guess: \"))\n",
    "\n",
    "        #Track the number of turns and reduce by 1 if they get it wrong.\n",
    "        turns = check_answer(guess, answer, turns)\n",
    "        if turns == 0:\n",
    "            print(\"You've run out of guesses, you lose.\")\n",
    "            print(f\"The correct answer is {answer}\")\n",
    "            return\n",
    "        elif guess != answer:\n",
    "            print(\"Guess again.\")\n",
    "\n",
    "game()"
   ]
  },
  {
   "cell_type": "code",
   "execution_count": null,
   "id": "7e8e06d1-e9b0-4525-8cb4-ddf3edf41bf6",
   "metadata": {},
   "outputs": [],
   "source": []
  }
 ],
 "metadata": {
  "kernelspec": {
   "display_name": "Python 3 (ipykernel)",
   "language": "python",
   "name": "python3"
  },
  "language_info": {
   "codemirror_mode": {
    "name": "ipython",
    "version": 3
   },
   "file_extension": ".py",
   "mimetype": "text/x-python",
   "name": "python",
   "nbconvert_exporter": "python",
   "pygments_lexer": "ipython3",
   "version": "3.11.7"
  }
 },
 "nbformat": 4,
 "nbformat_minor": 5
}
