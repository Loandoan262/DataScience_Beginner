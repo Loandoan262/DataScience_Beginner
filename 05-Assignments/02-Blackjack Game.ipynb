{
 "cells": [
  {
   "cell_type": "markdown",
   "id": "4139cffa-0aaf-48a7-a607-0289037bfbd5",
   "metadata": {},
   "source": [
    "# ------------------------------ Blackjack Project ------------------------------"
   ]
  },
  {
   "cell_type": "markdown",
   "id": "0eb48e5a-e771-4005-886e-ec833fcb8f90",
   "metadata": {},
   "source": [
    "#### **Let's start!!! Check *Blackjack_Flowchart.pdf* for the logic of the game**"
   ]
  },
  {
   "cell_type": "markdown",
   "id": "18fb764d-5fdd-43bb-bdc4-ef40abb2a721",
   "metadata": {},
   "source": [
    "**Step 1:** Create a deal_card() function that uses the List below to return a random card. \n",
    "11 is the Ace.\n",
    "*cards = [11, 2, 3, 4, 5, 6, 7, 8, 9, 10, 10, 10, 10]*\n",
    "\n",
    "**Step 2:** Deal the user and computer 2 cards each using *deal_card()* and *append()*.\n",
    "*user_cards = []*\n",
    "*computer_cards = []*\n",
    "\n",
    "**Step 3:** Create a function called *calculate_score()* that takes a List of cards as input and returns the score. \n",
    "Look up the sum() function to help you do this.\n",
    "\n",
    "**Step 4:** Inside *calculate_score()* check for a blackjack (a hand with only 2 cards: ace + 10) and return 0 instead of the actual score. 0 will represent a blackjack in our game.\n",
    "\n",
    "**Step 5:** Inside *calculate_score()* check for an 11 (ace). If the score is already over 21, remove the 11 and replace it with a 1. You might need to look up *append()* and *remove()*.\n",
    "\n",
    "**Step 6:** Call *calculate_score()*. If the computer or the user has a blackjack (0) or if the user's score is over 21, then the game ends.\n",
    "\n",
    "**Step 7:** If the game has not ended, ask the user if they want to draw another card. If yes, then use the *deal_card()* function to add another card to the *user_cards* List. If no, then the game has ended. You may need to look up the command *input()*\n",
    "\n",
    "**Step 8:** The score will need to be rechecked with every new card drawn and the checks in Step 6 need to be repeated until the game ends.\n",
    "\n",
    "**Step 9:** Once the user is done, it's time to let the computer play. The computer should keep drawing cards as long as it has a score less than 17.\n",
    "\n",
    "**Step 10:** Create a function called *compare()* and pass in the *user_score* and *computer_score*. If the computer and user both have the same score, then it's a draw. If the computer has a blackjack (0), then the user loses. If the user has a blackjack (0), then the user wins. If the user_score is over 21, then the user loses. If the computer_score is over 21, then the computer loses. If none of the above, then the player with the highest score wins.\n",
    "\n",
    "**Step 11:** Ask the user if they want to restart the game. If they answer yes, clear the old output and start a new game of blackjack. You may need to look up *from IPython.display import clear_output* "
   ]
  },
  {
   "cell_type": "code",
   "execution_count": null,
   "id": "91189326-d44f-4aad-b868-be5cbb2d504a",
   "metadata": {},
   "outputs": [],
   "source": []
  }
 ],
 "metadata": {
  "kernelspec": {
   "display_name": "Python 3 (ipykernel)",
   "language": "python",
   "name": "python3"
  },
  "language_info": {
   "codemirror_mode": {
    "name": "ipython",
    "version": 3
   },
   "file_extension": ".py",
   "mimetype": "text/x-python",
   "name": "python",
   "nbconvert_exporter": "python",
   "pygments_lexer": "ipython3",
   "version": "3.11.7"
  }
 },
 "nbformat": 4,
 "nbformat_minor": 5
}
