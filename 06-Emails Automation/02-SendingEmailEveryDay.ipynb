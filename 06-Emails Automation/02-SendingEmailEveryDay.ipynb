{
 "cells": [
  {
   "cell_type": "markdown",
   "id": "b23de207-d54c-4f25-bf5f-71aecf81501f",
   "metadata": {},
   "source": [
    "# Sending Email Every Day\n",
    "For this purpuse, each company has an ETL system (e.g. Databricks, airflow apache, ...). In this course, we will use PythonAnywhere\n"
   ]
  },
  {
   "cell_type": "code",
   "execution_count": 2,
   "id": "1b715c14-7182-44c1-b676-28e178c3f173",
   "metadata": {},
   "outputs": [],
   "source": [
    "import os\n",
    "import yagmail\n",
    "import time\n",
    "from datetime import datetime as dt"
   ]
  },
  {
   "cell_type": "code",
   "execution_count": 3,
   "id": "c2d5827a-8c79-4136-afe2-98ce3adaa9c9",
   "metadata": {},
   "outputs": [],
   "source": [
    "pw = os.getenv('EMAIL_PASSWORD')"
   ]
  },
  {
   "cell_type": "code",
   "execution_count": 4,
   "id": "7b82e440-15e3-404e-9962-2501f7e0874e",
   "metadata": {},
   "outputs": [
    {
     "name": "stdout",
     "output_type": "stream",
     "text": [
      "Email sent!\n"
     ]
    }
   ],
   "source": [
    "sender = \"minhloan.ftu@gmail.com\"\n",
    "receiver = \"loandoan.hsrw@gmail.com\"\n",
    "\n",
    "subject = \"This is the subject\"\n",
    "\n",
    "contents = \"\"\" \n",
    "Here is the content of the email!\n",
    "\"\"\"\n",
    "\n",
    "yag = yagmail.SMTP(user=sender, password=os.getenv('EMAIL_PASSWORD'))\n",
    "yag.send(to=receiver, subject=subject, contents=contents)\n",
    "print(\"Email sent!\")"
   ]
  },
  {
   "cell_type": "markdown",
   "id": "92adee4b-67ba-491f-9f2f-619968ffa0a4",
   "metadata": {},
   "source": [
    "**To convert .ipynb to .py, use command below in Terminal:**\n",
    "*jupyter nbconvert --to python 02-SendingEmailEveryDay.ipynb*"
   ]
  },
  {
   "cell_type": "markdown",
   "id": "5a5a206e-0d53-4a16-9b7e-b2d13a25a861",
   "metadata": {},
   "source": [
    "# Send email monthly"
   ]
  },
  {
   "cell_type": "code",
   "execution_count": 8,
   "id": "ba08c403-4490-4eb8-9349-3c79bfc4b2be",
   "metadata": {},
   "outputs": [
    {
     "name": "stdout",
     "output_type": "stream",
     "text": [
      "Email sent!\n"
     ]
    }
   ],
   "source": [
    "sender = \"minhloan.ftu@gmail.com\"\n",
    "receiver = \"loandoan.hsrw@gmail.com\"\n",
    "\n",
    "subject = \"This is the subject\"\n",
    "\n",
    "contents = \"\"\" \n",
    "Here is the content of the email!\n",
    "\"\"\"\n",
    "now = dt.now()\n",
    "if now.day == 22:\n",
    "    yag = yagmail.SMTP(user=sender, password=os.getenv('EMAIL_PASSWORD'))\n",
    "    yag.send(to=receiver, subject=subject, contents=contents)\n",
    "    print(\"Email sent!\")"
   ]
  },
  {
   "cell_type": "code",
   "execution_count": null,
   "id": "adde253d-f628-45ca-addf-525ceefc0d63",
   "metadata": {},
   "outputs": [],
   "source": []
  }
 ],
 "metadata": {
  "kernelspec": {
   "display_name": "Python 3 (ipykernel)",
   "language": "python",
   "name": "python3"
  },
  "language_info": {
   "codemirror_mode": {
    "name": "ipython",
    "version": 3
   },
   "file_extension": ".py",
   "mimetype": "text/x-python",
   "name": "python",
   "nbconvert_exporter": "python",
   "pygments_lexer": "ipython3",
   "version": "3.11.7"
  }
 },
 "nbformat": 4,
 "nbformat_minor": 5
}
