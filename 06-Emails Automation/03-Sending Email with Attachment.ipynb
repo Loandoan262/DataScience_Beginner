{
 "cells": [
  {
   "cell_type": "markdown",
   "id": "b23de207-d54c-4f25-bf5f-71aecf81501f",
   "metadata": {},
   "source": [
    "# Sending Email with Attachment"
   ]
  },
  {
   "cell_type": "code",
   "execution_count": 1,
   "id": "1b715c14-7182-44c1-b676-28e178c3f173",
   "metadata": {},
   "outputs": [],
   "source": [
    "import os\n",
    "import yagmail"
   ]
  },
  {
   "cell_type": "code",
   "execution_count": 2,
   "id": "c2d5827a-8c79-4136-afe2-98ce3adaa9c9",
   "metadata": {},
   "outputs": [],
   "source": [
    "pw = os.getenv('EMAIL_PASSWORD')"
   ]
  },
  {
   "cell_type": "code",
   "execution_count": 5,
   "id": "7b82e440-15e3-404e-9962-2501f7e0874e",
   "metadata": {},
   "outputs": [
    {
     "name": "stdout",
     "output_type": "stream",
     "text": [
      "Email sent!\n"
     ]
    }
   ],
   "source": [
    "sender = \"minhloan.ftu@gmail.com\"\n",
    "receiver = \"loandoan.hsrw@gmail.com\"\n",
    "\n",
    "subject = \"This is the subject\"\n",
    "\n",
    "contents = [\"\"\" \n",
    "Here is the content of the email!\n",
    "\"\"\", \"/Users/loandoan/Desktop/DataScience_Beginner/Presentation.prdx\"]\n",
    "\n",
    "yag = yagmail.SMTP(user=sender, password=os.getenv('EMAIL_PASSWORD'))\n",
    "yag.send(to=receiver, subject=subject, contents=contents)\n",
    "print(\"Email sent!\")"
   ]
  },
  {
   "cell_type": "code",
   "execution_count": null,
   "id": "17c7572d-8e76-425f-8623-0d0b1e9f65ec",
   "metadata": {},
   "outputs": [],
   "source": []
  }
 ],
 "metadata": {
  "kernelspec": {
   "display_name": "Python 3 (ipykernel)",
   "language": "python",
   "name": "python3"
  },
  "language_info": {
   "codemirror_mode": {
    "name": "ipython",
    "version": 3
   },
   "file_extension": ".py",
   "mimetype": "text/x-python",
   "name": "python",
   "nbconvert_exporter": "python",
   "pygments_lexer": "ipython3",
   "version": "3.11.7"
  }
 },
 "nbformat": 4,
 "nbformat_minor": 5
}
