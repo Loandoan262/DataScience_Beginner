{
 "cells": [
  {
   "cell_type": "markdown",
   "id": "216b870e-185e-42ec-a2ba-9c1d932ec1e4",
   "metadata": {},
   "source": [
    "## Exercise 3"
   ]
  },
  {
   "cell_type": "markdown",
   "id": "cc3c38d2-2f23-4b25-a6d3-f7a5603b3835",
   "metadata": {},
   "source": [
    "**Q1: Complete the script so that it prints out a list containing letters a, c, e, g, and i so the at a step of two**"
   ]
  },
  {
   "cell_type": "code",
   "execution_count": null,
   "id": "f91fb827-02ab-423d-8779-98b5b4ce6ee9",
   "metadata": {},
   "outputs": [],
   "source": [
    "letters = [\"a\", \"b\", \"c\", \"d\", \"e\", \"f\", \"g\", \"h\", \"i\", \"j\"]"
   ]
  },
  {
   "cell_type": "code",
   "execution_count": 7,
   "id": "47b58dc7-2011-46cb-a6d8-ae4e082e6000",
   "metadata": {},
   "outputs": [
    {
     "name": "stdout",
     "output_type": "stream",
     "text": [
      "['a', 'c', 'e', 'g', 'i']\n"
     ]
    }
   ],
   "source": [
    "print(letters[::2])"
   ]
  },
  {
   "cell_type": "markdown",
   "id": "c0547c51-d076-4076-bb7d-b65c1bdeda36",
   "metadata": {},
   "source": [
    "**Q2a: Create a script that generates a list of numbers from 1 to 20. Do not create a list manually.**"
   ]
  },
  {
   "cell_type": "code",
   "execution_count": 8,
   "id": "0e02186d-0db1-4729-ab82-6ef60f97ba54",
   "metadata": {},
   "outputs": [
    {
     "name": "stdout",
     "output_type": "stream",
     "text": [
      "[1, 2, 3, 4, 5, 6, 7, 8, 9, 10, 11, 12, 13, 14, 15, 16, 17, 18, 19, 20]\n"
     ]
    }
   ],
   "source": [
    "my_range = range(1, 21)\n",
    "print(list(my_range))"
   ]
  },
  {
   "cell_type": "markdown",
   "id": "09862260-0be8-49ef-ba81-c79eca74b5a7",
   "metadata": {},
   "source": [
    "**Q2b: Create a script that generates a list of the original list items multiplied by 10**"
   ]
  },
  {
   "cell_type": "code",
   "execution_count": 9,
   "id": "95abbb14-8044-4c89-a1d8-22ca4564c311",
   "metadata": {},
   "outputs": [
    {
     "name": "stdout",
     "output_type": "stream",
     "text": [
      "[10, 20, 30, 40, 50, 60, 70, 80, 90, 100, 110, 120, 130, 140, 150, 160, 170, 180, 190, 200]\n"
     ]
    }
   ],
   "source": [
    "my_range = range(1, 21)\n",
    "print([10 * x for x in my_range])"
   ]
  },
  {
   "cell_type": "markdown",
   "id": "fbeef576-5e6e-4bf5-b312-ccbaf94f7854",
   "metadata": {},
   "source": [
    "**Create a script that converts all items of the range to strings**\n",
    "my_range = range(1, 21)"
   ]
  },
  {
   "cell_type": "code",
   "execution_count": 13,
   "id": "f81d912e-78c2-4451-83fe-708d34c3ca47",
   "metadata": {},
   "outputs": [
    {
     "data": {
      "text/plain": [
       "['1',\n",
       " '2',\n",
       " '3',\n",
       " '4',\n",
       " '5',\n",
       " '6',\n",
       " '7',\n",
       " '8',\n",
       " '9',\n",
       " '10',\n",
       " '11',\n",
       " '12',\n",
       " '13',\n",
       " '14',\n",
       " '15',\n",
       " '16',\n",
       " '17',\n",
       " '18',\n",
       " '19',\n",
       " '20']"
      ]
     },
     "execution_count": 13,
     "metadata": {},
     "output_type": "execute_result"
    }
   ],
   "source": [
    "my_range = range(1, 21)\n",
    "list(map(str, my_range))"
   ]
  },
  {
   "cell_type": "markdown",
   "id": "883189e5-3e32-45ea-8a67-6861a58c5979",
   "metadata": {},
   "source": [
    "**Q3: Write a script that remove duplicates from a list**"
   ]
  },
  {
   "cell_type": "code",
   "execution_count": 93,
   "id": "a519b2cb-ad5a-4fa9-b5b9-a721c9e6a07a",
   "metadata": {},
   "outputs": [],
   "source": [
    "a = [\"1\", 1, \"1\", 2]"
   ]
  },
  {
   "cell_type": "code",
   "execution_count": 94,
   "id": "0372f234-0bac-48a5-a032-f2a10d26cf63",
   "metadata": {},
   "outputs": [
    {
     "name": "stdout",
     "output_type": "stream",
     "text": [
      "[1, 2, '1']\n"
     ]
    }
   ],
   "source": [
    "a = list(set(a))\n",
    "print(a)"
   ]
  },
  {
   "cell_type": "markdown",
   "id": "2bf172cb-626c-49dd-9d2f-865825dd6858",
   "metadata": {},
   "source": [
    "**Q4: Create a dictionary of two keys, a and b and two values 1 and 2 for keys a and b respectively.**"
   ]
  },
  {
   "cell_type": "code",
   "execution_count": 95,
   "id": "5aa48021-913b-4891-ac25-719765d9717a",
   "metadata": {},
   "outputs": [
    {
     "name": "stdout",
     "output_type": "stream",
     "text": [
      "{'a': 1, 'b': 2}\n"
     ]
    }
   ],
   "source": [
    "d = {\"a\": 1, \"b\": 2}\n",
    "print(d)"
   ]
  },
  {
   "cell_type": "markdown",
   "id": "0c34984a-dbd5-4de0-935d-6c0b564890c1",
   "metadata": {},
   "source": [
    "**Q4a: Print out the value of key b**"
   ]
  },
  {
   "cell_type": "code",
   "execution_count": 96,
   "id": "5b217c96-ccb0-4caf-828e-31e4416b39ac",
   "metadata": {},
   "outputs": [
    {
     "name": "stdout",
     "output_type": "stream",
     "text": [
      "2\n"
     ]
    }
   ],
   "source": [
    "print(d[\"b\"])"
   ]
  },
  {
   "cell_type": "markdown",
   "id": "ec5ae434-541a-4ea3-be88-846ab358ae08",
   "metadata": {},
   "source": [
    "**Q4b: Calculate the sum of value of key a and value of key b and print it out**"
   ]
  },
  {
   "cell_type": "code",
   "execution_count": 97,
   "id": "351cc440-65d3-4bf5-878d-3bcaed9b9acf",
   "metadata": {},
   "outputs": [
    {
     "name": "stdout",
     "output_type": "stream",
     "text": [
      "3\n"
     ]
    }
   ],
   "source": [
    "print(d[\"b\"] + d[\"a\"])"
   ]
  },
  {
   "cell_type": "markdown",
   "id": "aaa1e65e-6c68-452f-b384-e17a0bb9a5d6",
   "metadata": {},
   "source": [
    "**Q4c: Add a c key with a value of 3 to the dictionary and print out the updated dictinary**"
   ]
  },
  {
   "cell_type": "code",
   "execution_count": 98,
   "id": "58ae7fa5-c373-419e-b3db-bdf373d9ae86",
   "metadata": {},
   "outputs": [
    {
     "name": "stdout",
     "output_type": "stream",
     "text": [
      "{'a': 1, 'b': 2, 'c': 3}\n"
     ]
    }
   ],
   "source": [
    "d[\"c\"] = 3\n",
    "print(d)"
   ]
  },
  {
   "cell_type": "markdown",
   "id": "3586cb06-116c-4f9d-8768-b72e9bc8d785",
   "metadata": {},
   "source": [
    "**Q4d: Find the sum of all values**"
   ]
  },
  {
   "cell_type": "code",
   "execution_count": 99,
   "id": "2031ab1b-012f-4dfc-b94a-550306d1866d",
   "metadata": {},
   "outputs": [
    {
     "name": "stdout",
     "output_type": "stream",
     "text": [
      "6\n"
     ]
    }
   ],
   "source": [
    "print(sum(d.values()))"
   ]
  },
  {
   "cell_type": "markdown",
   "id": "8352ed5b-5a16-4fb2-b4b8-e589bebffd0b",
   "metadata": {},
   "source": [
    "**Q4e: Filter out values of equal or greater than 2**"
   ]
  },
  {
   "cell_type": "code",
   "execution_count": 101,
   "id": "0d662de4-3185-4da4-b385-dad357a02c1c",
   "metadata": {},
   "outputs": [
    {
     "name": "stdout",
     "output_type": "stream",
     "text": [
      "{'b': 2, 'c': 3}\n"
     ]
    }
   ],
   "source": [
    "fil = dict((key, value) for key, value in d.items() if value >= 2)\n",
    "print(fil)"
   ]
  },
  {
   "cell_type": "markdown",
   "id": "311fbf76-327b-4c7a-aa20-b9b0b958064b",
   "metadata": {},
   "source": [
    "**Q5: Create a dictionary of keys a, b, c where each key has as value a list from 1 to 10, 11 to 20, and 21 to 30 respectively and print out**"
   ]
  },
  {
   "cell_type": "code",
   "execution_count": 102,
   "id": "4ab803bd-d60a-480d-820e-443a9ec5c576",
   "metadata": {},
   "outputs": [
    {
     "name": "stdout",
     "output_type": "stream",
     "text": [
      "{'a': [1, 2, 3, 4, 5, 6, 7, 8, 9, 10], 'b': [11, 12, 13, 14, 15, 16, 17, 18, 19, 20], 'c': [21, 22, 23, 24, 25, 26, 27, 28, 29, 30]}\n"
     ]
    }
   ],
   "source": [
    "d = dict(a = list(range(1, 11)), b = list(range(11, 21)), c = list(range(21, 31)))\n",
    "print(d)"
   ]
  },
  {
   "cell_type": "markdown",
   "id": "95cd08d1-9fb2-4992-9777-734c5d684f51",
   "metadata": {},
   "source": [
    "**Q5a: Access the third value of key b**"
   ]
  },
  {
   "cell_type": "code",
   "execution_count": 103,
   "id": "537fd2d0-29da-4f4b-bc11-e4bcdbd3df12",
   "metadata": {},
   "outputs": [
    {
     "name": "stdout",
     "output_type": "stream",
     "text": [
      "13\n"
     ]
    }
   ],
   "source": [
    "print(d['b'][2])"
   ]
  },
  {
   "cell_type": "markdown",
   "id": "1e803e3b-1c64-4fdb-9a4f-0143e6ca4914",
   "metadata": {},
   "source": [
    "**Q5b: Create a for loop that it prints out the output like below:** \\\n",
    "a has value [1, 2, 3, 4, 5, 6, 7, 8, 9, 10] \\\n",
    "b has value [11, 12, 13, 14, 15, 16, 17, 18, 19, 20] \\\n",
    "c has value [21, 22, 23, 24, 25, 26, 27, 28, 29, 30] \\\n",
    "*Hint: You may consider to use: for k, v in d.items()*"
   ]
  },
  {
   "cell_type": "code",
   "execution_count": 106,
   "id": "43b49e01-9653-42a1-a90f-106fb4fb444e",
   "metadata": {},
   "outputs": [
    {
     "name": "stdout",
     "output_type": "stream",
     "text": [
      "a has value [1, 2, 3, 4, 5, 6, 7, 8, 9, 10]\n",
      "b has value [11, 12, 13, 14, 15, 16, 17, 18, 19, 20]\n",
      "c has value [21, 22, 23, 24, 25, 26, 27, 28, 29, 30]\n"
     ]
    }
   ],
   "source": [
    "for key, value in d.items():\n",
    "    print(key, \"has value\", value)"
   ]
  },
  {
   "cell_type": "markdown",
   "id": "78d4a576-645a-4e02-9a54-a956638423cc",
   "metadata": {},
   "source": [
    "**Q6: Make a script that prints out letters of English alphabet from a to z** \\\n",
    "*Hint: You may consider to use the package \"string\" and method \"ascii_lowercase\"* "
   ]
  },
  {
   "cell_type": "code",
   "execution_count": 107,
   "id": "d5f66bec-ec59-4274-aeca-fdd3f1167a7a",
   "metadata": {},
   "outputs": [
    {
     "name": "stdout",
     "output_type": "stream",
     "text": [
      "a b c d e f g h i j k l m n o p q r s t u v w x y z "
     ]
    }
   ],
   "source": [
    "import string\n",
    "\n",
    "for letter in string.ascii_lowercase:\n",
    "    print(letter, end = \" \")"
   ]
  },
  {
   "cell_type": "markdown",
   "id": "63e0eed2-fabb-4862-a2c5-1e6a1c908964",
   "metadata": {},
   "source": [
    "**Q7: Make a script that prints out numbers from 1 to 10**"
   ]
  },
  {
   "cell_type": "code",
   "execution_count": 108,
   "id": "9532f5d6-7c4c-4c8a-aceb-43bed199d492",
   "metadata": {},
   "outputs": [
    {
     "name": "stdout",
     "output_type": "stream",
     "text": [
      "1\n",
      "2\n",
      "3\n",
      "4\n",
      "5\n",
      "6\n",
      "7\n",
      "8\n",
      "9\n",
      "10\n"
     ]
    }
   ],
   "source": [
    "for i in range(1,11):\n",
    "    print(i)"
   ]
  },
  {
   "cell_type": "markdown",
   "id": "7f8cab7d-422b-40f5-bf9c-a9fb97981702",
   "metadata": {},
   "source": [
    "**Q8: Write a function that calculates acceleration given the formula:** \\\n",
    "a = (v2 - v1) / t2 - t1 \\\n",
    "**Test the function with v1=0, v2=10, t1=0, t2=20**"
   ]
  },
  {
   "cell_type": "code",
   "execution_count": 109,
   "id": "d23cc58d-b1d8-49bb-93ba-86b7445a4929",
   "metadata": {},
   "outputs": [
    {
     "name": "stdout",
     "output_type": "stream",
     "text": [
      "0.5\n"
     ]
    }
   ],
   "source": [
    "def acceleration(v1, v2, t1, t2):\n",
    "    a = float(v2 - v1) / float((t2 - t1))\n",
    "    return a\n",
    "\n",
    "print(acceleration(0,10,0,20))"
   ]
  },
  {
   "cell_type": "markdown",
   "id": "4b3177c9-4b99-42b2-b603-e31cd89dd9f6",
   "metadata": {},
   "source": [
    "**Q9: Why is the error and how to fix it?**"
   ]
  },
  {
   "cell_type": "code",
   "execution_count": 110,
   "id": "ca2353b9-ea26-4c90-924d-9008284c6713",
   "metadata": {},
   "outputs": [
    {
     "name": "stdout",
     "output_type": "stream",
     "text": [
      "5\n"
     ]
    },
    {
     "ename": "TypeError",
     "evalue": "unsupported operand type(s) for *: 'NoneType' and 'int'",
     "output_type": "error",
     "traceback": [
      "\u001b[0;31m---------------------------------------------------------------------------\u001b[0m",
      "\u001b[0;31mTypeError\u001b[0m                                 Traceback (most recent call last)",
      "Cell \u001b[0;32mIn[110], line 4\u001b[0m\n\u001b[1;32m      1\u001b[0m \u001b[38;5;28;01mdef\u001b[39;00m \u001b[38;5;21mfoo\u001b[39m(a, b):\n\u001b[1;32m      2\u001b[0m     \u001b[38;5;28mprint\u001b[39m(a \u001b[38;5;241m+\u001b[39m b)\n\u001b[0;32m----> 4\u001b[0m x \u001b[38;5;241m=\u001b[39m foo(\u001b[38;5;241m2\u001b[39m, \u001b[38;5;241m3\u001b[39m) \u001b[38;5;241m*\u001b[39m \u001b[38;5;241m10\u001b[39m\n",
      "\u001b[0;31mTypeError\u001b[0m: unsupported operand type(s) for *: 'NoneType' and 'int'"
     ]
    }
   ],
   "source": [
    "def foo(a, b):\n",
    "    print(a + b)\n",
    "\n",
    "x = foo(2, 3) * 10"
   ]
  },
  {
   "cell_type": "markdown",
   "id": "02395c2e-bf45-4a21-93cd-e2c1196c5ccb",
   "metadata": {},
   "source": [
    "**Q10: Why do you get an error and how would you fix it?**"
   ]
  },
  {
   "cell_type": "code",
   "execution_count": 111,
   "id": "60d6d02d-d349-48ec-a260-bf9140fb2aba",
   "metadata": {},
   "outputs": [
    {
     "ename": "SyntaxError",
     "evalue": "non-default argument follows default argument (297519175.py, line 1)",
     "output_type": "error",
     "traceback": [
      "\u001b[0;36m  Cell \u001b[0;32mIn[111], line 1\u001b[0;36m\u001b[0m\n\u001b[0;31m    def foo(a=2, b):\u001b[0m\n\u001b[0m                 ^\u001b[0m\n\u001b[0;31mSyntaxError\u001b[0m\u001b[0;31m:\u001b[0m non-default argument follows default argument\n"
     ]
    }
   ],
   "source": [
    "def foo(a=2, b):\n",
    "    return a + b\n",
    "\n",
    "print(foo(3, 4))"
   ]
  },
  {
   "cell_type": "markdown",
   "id": "39166b4d-7fdc-49ce-b612-95479078d6a0",
   "metadata": {},
   "source": [
    "**Q11: Create a function that takes a string e.g. \"Hey there it's me!\" and returns the number (length) of words**"
   ]
  },
  {
   "cell_type": "code",
   "execution_count": 112,
   "id": "d1310e2b-d6b0-4de2-92fe-25f03564800e",
   "metadata": {},
   "outputs": [
    {
     "name": "stdout",
     "output_type": "stream",
     "text": [
      "4\n"
     ]
    }
   ],
   "source": [
    "def count_words(string):\n",
    "    string_list = string.split(\" \")\n",
    "    return len(string_list)\n",
    "\n",
    "print(count_words(\"Hey there it's me!\"))"
   ]
  },
  {
   "cell_type": "markdown",
   "id": "284845d4-8e33-42fd-a519-79980c195337",
   "metadata": {},
   "source": [
    "**Q12: This script is supposed to print out the square root of 9, but there's an error. Correct it!**"
   ]
  },
  {
   "cell_type": "code",
   "execution_count": 2,
   "id": "c47bc51c-0152-41ac-9e5a-a8cce33a23bd",
   "metadata": {},
   "outputs": [
    {
     "ename": "NameError",
     "evalue": "name 'math' is not defined",
     "output_type": "error",
     "traceback": [
      "\u001b[0;31m---------------------------------------------------------------------------\u001b[0m",
      "\u001b[0;31mNameError\u001b[0m                                 Traceback (most recent call last)",
      "Cell \u001b[0;32mIn[2], line 1\u001b[0m\n\u001b[0;32m----> 1\u001b[0m math\u001b[38;5;241m.\u001b[39msqrt(\u001b[38;5;241m9\u001b[39m)\n",
      "\u001b[0;31mNameError\u001b[0m: name 'math' is not defined"
     ]
    }
   ],
   "source": [
    "math.sqrt(9)"
   ]
  },
  {
   "cell_type": "markdown",
   "id": "67650054-b1f2-4cbb-9d93-1d17741be224",
   "metadata": {},
   "source": [
    "**Q13: Calculate the cosine of 90, use the package \"math\"**"
   ]
  },
  {
   "cell_type": "code",
   "execution_count": 4,
   "id": "fd2725c4-f09b-4a54-a41a-dcbcf4177c5c",
   "metadata": {},
   "outputs": [
    {
     "name": "stdout",
     "output_type": "stream",
     "text": [
      "-0.4480736161291702\n"
     ]
    }
   ],
   "source": [
    "import math\n",
    "print(math.cos(90))"
   ]
  },
  {
   "cell_type": "markdown",
   "id": "0b9ffa95-50da-497f-b91f-e049c5faa0c6",
   "metadata": {},
   "source": [
    "**Q14: Fix the error below:**"
   ]
  },
  {
   "cell_type": "code",
   "execution_count": 5,
   "id": "12f2817c-0d1a-465d-b207-d1c7834ab9c4",
   "metadata": {},
   "outputs": [
    {
     "ename": "TypeError",
     "evalue": "can only concatenate str (not \"int\") to str",
     "output_type": "error",
     "traceback": [
      "\u001b[0;31m---------------------------------------------------------------------------\u001b[0m",
      "\u001b[0;31mTypeError\u001b[0m                                 Traceback (most recent call last)",
      "Cell \u001b[0;32mIn[5], line 3\u001b[0m\n\u001b[1;32m      1\u001b[0m a \u001b[38;5;241m=\u001b[39m \u001b[38;5;124m\"\u001b[39m\u001b[38;5;124m1\u001b[39m\u001b[38;5;124m\"\u001b[39m\n\u001b[1;32m      2\u001b[0m b \u001b[38;5;241m=\u001b[39m \u001b[38;5;241m2\u001b[39m\n\u001b[0;32m----> 3\u001b[0m \u001b[38;5;28mprint\u001b[39m(a \u001b[38;5;241m+\u001b[39m b)\n",
      "\u001b[0;31mTypeError\u001b[0m: can only concatenate str (not \"int\") to str"
     ]
    }
   ],
   "source": [
    "a = \"1\"\n",
    "b = 2\n",
    "print(a + b)"
   ]
  },
  {
   "cell_type": "markdown",
   "id": "169e0bda-c2f6-4658-9008-5fe751b3f0f3",
   "metadata": {},
   "source": [
    "**Q15: Calculate the power 3 of 2 with the “math” package.**"
   ]
  },
  {
   "cell_type": "code",
   "execution_count": 6,
   "id": "4eb4f5a9-a3ef-401d-8074-dea9c8bc4707",
   "metadata": {},
   "outputs": [
    {
     "name": "stdout",
     "output_type": "stream",
     "text": [
      "8.0\n"
     ]
    }
   ],
   "source": [
    "import math\n",
    "print(math.pow(2, 3))"
   ]
  },
  {
   "cell_type": "markdown",
   "id": "61227095-0061-4dca-a296-bd62ee854cf1",
   "metadata": {},
   "source": [
    "**Q16: Print out in each line the sum of homologous items from the two sequences**\n",
    "*Hint: use for loop with \"zip\"*"
   ]
  },
  {
   "cell_type": "code",
   "execution_count": 7,
   "id": "64b13e39-1a76-45e0-bf45-e032cae3219e",
   "metadata": {},
   "outputs": [
    {
     "name": "stdout",
     "output_type": "stream",
     "text": [
      "5\n",
      "7\n",
      "9\n"
     ]
    }
   ],
   "source": [
    "a = [1, 2, 3]\n",
    "b = (4, 5, 6)\n",
    "\n",
    "for i, j in zip(a, b):\n",
    "    print(i + j)\n"
   ]
  },
  {
   "cell_type": "markdown",
   "id": "8aa2d2ee-47fc-4436-9f60-7a123c25c58d",
   "metadata": {},
   "source": [
    "**Q17: Fix the error below, the output should be \"e\"**"
   ]
  },
  {
   "cell_type": "code",
   "execution_count": 10,
   "id": "37d7a7a8-0d2a-4b3b-8051-ede6ca70dd7c",
   "metadata": {},
   "outputs": [
    {
     "ename": "IndentationError",
     "evalue": "expected an indented block after 'if' statement on line 2 (1415318742.py, line 3)",
     "output_type": "error",
     "traceback": [
      "\u001b[0;36m  Cell \u001b[0;32mIn[10], line 3\u001b[0;36m\u001b[0m\n\u001b[0;31m    print(letter)\u001b[0m\n\u001b[0m    ^\u001b[0m\n\u001b[0;31mIndentationError\u001b[0m\u001b[0;31m:\u001b[0m expected an indented block after 'if' statement on line 2\n"
     ]
    }
   ],
   "source": [
    "for letter in \"Hello\":\n",
    "    if letter == \"e\":\n",
    "    print(letter)"
   ]
  },
  {
   "cell_type": "markdown",
   "id": "9877ce50-fb13-4373-9d29-9c0ba26c8d75",
   "metadata": {},
   "source": [
    "**Q18: Complete the script so that it prints out the second letter of the list**"
   ]
  },
  {
   "cell_type": "code",
   "execution_count": 11,
   "id": "861cd47a-9395-4508-a602-0016062d2035",
   "metadata": {},
   "outputs": [
    {
     "name": "stdout",
     "output_type": "stream",
     "text": [
      "b\n"
     ]
    }
   ],
   "source": [
    "letters = [\"a\", \"b\", \"c\", \"d\", \"e\", \"f\", \"g\", \"h\", \"i\", \"j\"]\n",
    "print(letters[1])"
   ]
  },
  {
   "cell_type": "markdown",
   "id": "1f4a8ece-2268-4aab-89fc-a423c2614b90",
   "metadata": {},
   "source": [
    "**Q19: Fix the error below**"
   ]
  },
  {
   "cell_type": "code",
   "execution_count": 13,
   "id": "e8ec4be4-a864-4b8b-9b7b-45797f2e6387",
   "metadata": {},
   "outputs": [
    {
     "ename": "SyntaxError",
     "evalue": "incomplete input (2850745866.py, line 1)",
     "output_type": "error",
     "traceback": [
      "\u001b[0;36m  Cell \u001b[0;32mIn[13], line 1\u001b[0;36m\u001b[0m\n\u001b[0;31m    print(type(\"Hey\".replace(\"ey\",\"i\")[-1])\u001b[0m\n\u001b[0m                                           ^\u001b[0m\n\u001b[0;31mSyntaxError\u001b[0m\u001b[0;31m:\u001b[0m incomplete input\n"
     ]
    }
   ],
   "source": [
    "print(type(\"Hey\".replace(\"ey\",\"i\")[-1])"
   ]
  },
  {
   "cell_type": "markdown",
   "id": "30278609-4493-47a1-953b-e1594d1809c3",
   "metadata": {},
   "source": [
    "**Q20: Fix the error below**"
   ]
  },
  {
   "cell_type": "code",
   "execution_count": 15,
   "id": "1243f196-3a61-4bf2-9d26-269b2424532c",
   "metadata": {},
   "outputs": [
    {
     "ename": "SyntaxError",
     "evalue": "invalid syntax. Perhaps you forgot a comma? (3275970821.py, line 3)",
     "output_type": "error",
     "traceback": [
      "\u001b[0;36m  Cell \u001b[0;32mIn[15], line 3\u001b[0;36m\u001b[0m\n\u001b[0;31m    print(\"Your first name is {} and your second name is {}\" firstname, secondname)\u001b[0m\n\u001b[0m          ^\u001b[0m\n\u001b[0;31mSyntaxError\u001b[0m\u001b[0;31m:\u001b[0m invalid syntax. Perhaps you forgot a comma?\n"
     ]
    }
   ],
   "source": [
    "firstname = \"Peter\"\n",
    "secondname = \"Muller\"\n",
    "print(\"Your first name is {} and your second name is {}\" firstname, secondname)"
   ]
  },
  {
   "cell_type": "markdown",
   "id": "90359561-951a-4816-9b1e-10febee86a99",
   "metadata": {},
   "source": [
    "**Q21a: Print out the last name of the second employee**"
   ]
  },
  {
   "cell_type": "code",
   "execution_count": 18,
   "id": "69d4ee47-beba-4cfb-8ff7-5fc691c66a97",
   "metadata": {},
   "outputs": [],
   "source": [
    "d = {\"employees\":[{\"firstName\": \"John\", \"lastName\": \"Doe\"},\n",
    "                {\"firstName\": \"Anna\", \"lastName\": \"Smith\"},\n",
    "                {\"firstName\": \"Peter\", \"lastName\": \"Jones\"}],\n",
    "\"owners\":[{\"firstName\": \"Jack\", \"lastName\": \"Petter\"},\n",
    "          {\"firstName\": \"Jessy\", \"lastName\": \"Petter\"}]}"
   ]
  },
  {
   "cell_type": "code",
   "execution_count": 17,
   "id": "7f199c31-b7ea-4aa0-bd3c-6c682ba3f192",
   "metadata": {},
   "outputs": [
    {
     "name": "stdout",
     "output_type": "stream",
     "text": [
      "Smith\n"
     ]
    }
   ],
   "source": [
    "print(d['employees'][1]['lastName'])"
   ]
  },
  {
   "cell_type": "markdown",
   "id": "669dde87-23e4-4ba2-8da1-f4138eff850b",
   "metadata": {},
   "source": [
    "**Q21b: Change the last name of the second employee to \"Smooth\"**"
   ]
  },
  {
   "cell_type": "code",
   "execution_count": 80,
   "id": "3f0e55dc-2011-45e8-bf08-2092bde3aff4",
   "metadata": {},
   "outputs": [],
   "source": [
    "d = {\"employees\":[{\"firstName\": \"John\", \"lastName\": \"Doe\"},\n",
    "                {\"firstName\": \"Anna\", \"lastName\": \"Smith\"},\n",
    "                {\"firstName\": \"Peter\", \"lastName\": \"Jones\"}],\n",
    "\"owners\":[{\"firstName\": \"Jack\", \"lastName\": \"Petter\"},\n",
    "          {\"firstName\": \"Jessy\", \"lastName\": \"Petter\"}]}"
   ]
  },
  {
   "cell_type": "code",
   "execution_count": 19,
   "id": "1024de55-ca2f-4d34-86d6-ecf7edd8778b",
   "metadata": {},
   "outputs": [
    {
     "data": {
      "text/plain": [
       "{'employees': [{'firstName': 'John', 'lastName': 'Doe'},\n",
       "  {'firstName': 'Anna', 'lastName': 'Smooth'},\n",
       "  {'firstName': 'Peter', 'lastName': 'Jones'}],\n",
       " 'owners': [{'firstName': 'Jack', 'lastName': 'Petter'},\n",
       "  {'firstName': 'Jessy', 'lastName': 'Petter'}]}"
      ]
     },
     "execution_count": 19,
     "metadata": {},
     "output_type": "execute_result"
    }
   ],
   "source": [
    "d['employees'][1]['lastName'] = \"Smooth\"\n",
    "d"
   ]
  },
  {
   "cell_type": "markdown",
   "id": "7b78703b-c00a-4597-a003-e04babfae207",
   "metadata": {},
   "source": [
    "**Q21c: Add a new employee (Albert Bert) to the dictionary and print the dict out**"
   ]
  },
  {
   "cell_type": "code",
   "execution_count": 20,
   "id": "96d6f9df-a86d-4b74-bac9-e3126c3d3792",
   "metadata": {},
   "outputs": [
    {
     "data": {
      "text/plain": [
       "{'employees': [{'firstName': 'John', 'lastName': 'Doe'},\n",
       "  {'firstName': 'Anna', 'lastName': 'Smith'},\n",
       "  {'firstName': 'Peter', 'lastName': 'Jones'},\n",
       "  {'firstName': 'Albert', 'lastName': 'Bert'}],\n",
       " 'owners': [{'firstName': 'Jack', 'lastName': 'Petter'},\n",
       "  {'firstName': 'Jessy', 'lastName': 'Petter'}]}"
      ]
     },
     "execution_count": 20,
     "metadata": {},
     "output_type": "execute_result"
    }
   ],
   "source": [
    "d = {\"employees\":[{\"firstName\": \"John\", \"lastName\": \"Doe\"},\n",
    "                {\"firstName\": \"Anna\", \"lastName\": \"Smith\"},\n",
    "                {\"firstName\": \"Peter\", \"lastName\": \"Jones\"}],\n",
    "\"owners\":[{\"firstName\": \"Jack\", \"lastName\": \"Petter\"},\n",
    "          {\"firstName\": \"Jessy\", \"lastName\": \"Petter\"}]}\n",
    "\n",
    "d[\"employees\"].append(dict(firstName = \"Albert\", lastName = \"Bert\"))\n",
    "d"
   ]
  },
  {
   "cell_type": "markdown",
   "id": "a5952410-c39e-4d33-bc4a-348cbf6012d4",
   "metadata": {},
   "source": [
    "**Q22: Print out three lines saying for instance item 1 has index 0, and so on.** \\\n",
    "*Hint: Use for loop with \"enumerate\"*"
   ]
  },
  {
   "cell_type": "code",
   "execution_count": 22,
   "id": "10c7be06-02e8-4ad7-9a7f-6e3701e708b9",
   "metadata": {},
   "outputs": [],
   "source": [
    "a = [1, 2, 3]"
   ]
  },
  {
   "cell_type": "code",
   "execution_count": 23,
   "id": "62f8278b-e706-4167-a3d4-6d227fa310e2",
   "metadata": {},
   "outputs": [
    {
     "name": "stdout",
     "output_type": "stream",
     "text": [
      "Item 1 has index 0\n",
      "Item 2 has index 1\n",
      "Item 3 has index 2\n"
     ]
    }
   ],
   "source": [
    "for index, item in enumerate(a):\n",
    "    print(\"Item %s has index %s\" % (item, index))"
   ]
  },
  {
   "cell_type": "markdown",
   "id": "10bc747f-ab2e-4d83-86cb-f2eb546e003e",
   "metadata": {},
   "source": [
    "**Q23: Complete the script so that it prints out a list containing letters d, e, f.**"
   ]
  },
  {
   "cell_type": "code",
   "execution_count": 24,
   "id": "749331e2-b0ed-4cd8-91db-aeff26affe4b",
   "metadata": {},
   "outputs": [],
   "source": [
    "letters = [\"a\", \"b\", \"c\", \"d\", \"e\", \"f\", \"g\", \"h\", \"i\", \"j\"]"
   ]
  },
  {
   "cell_type": "code",
   "execution_count": 25,
   "id": "dfb0da31-aab1-4e67-9d94-effd4df672fc",
   "metadata": {},
   "outputs": [
    {
     "name": "stdout",
     "output_type": "stream",
     "text": [
      "['d', 'e', 'f']\n"
     ]
    }
   ],
   "source": [
    "print(letters[3:6])"
   ]
  },
  {
   "cell_type": "markdown",
   "id": "39c38510-d58d-4afb-9498-b9d7b09f1843",
   "metadata": {},
   "source": [
    "**Q24: Create a while loop to print “Hello!” if i<=3, otherwise “Goodbye!” and end the loop.** \\\n",
    "*Hint: You can use an “if” condition for i>3 and “break” to end the loop.*"
   ]
  },
  {
   "cell_type": "code",
   "execution_count": 1,
   "id": "7cb193fc-c931-48be-a1ee-908aaff77daa",
   "metadata": {},
   "outputs": [
    {
     "name": "stdout",
     "output_type": "stream",
     "text": [
      "Hello\n",
      "Hello\n",
      "Hello\n",
      "Hello\n",
      "Goodbye\n"
     ]
    }
   ],
   "source": [
    "i = 0\n",
    "while i<=3:\n",
    "    print(\"Hello\")\n",
    "    i = i + 1\n",
    "    if i > 3:\n",
    "        print(\"Goodbye\")\n",
    "        break"
   ]
  },
  {
   "cell_type": "markdown",
   "id": "9af57c60-4b7c-47bb-b7a7-4a47d5a1b6e3",
   "metadata": {},
   "source": [
    "**Q24: Create a function that takes a word in English from d and translates it into Spanish** \\\n",
    "*Consider user may enter different letter cases e.g. \"Weather\" instead of \"weather\"*"
   ]
  },
  {
   "cell_type": "code",
   "execution_count": 28,
   "id": "c90c2d73-a0a0-430c-b911-eb82bdfb7ff5",
   "metadata": {},
   "outputs": [],
   "source": [
    "d = dict(weather = \"tiempo\", earth = \"tierra\", rain = \"lluvia\")"
   ]
  },
  {
   "cell_type": "code",
   "execution_count": 29,
   "id": "1d9520ec-700c-4003-aef3-eee35f84fbb3",
   "metadata": {},
   "outputs": [
    {
     "name": "stdout",
     "output_type": "stream",
     "text": [
      "tiempo\n"
     ]
    }
   ],
   "source": [
    "def vocabulary(word):\n",
    "    return d[word.lower()]\n",
    "print(vocabulary(\"Weather\"))"
   ]
  },
  {
   "cell_type": "code",
   "execution_count": null,
   "id": "92227070-293d-4405-bb00-b9e9ff12eccf",
   "metadata": {},
   "outputs": [],
   "source": []
  }
 ],
 "metadata": {
  "kernelspec": {
   "display_name": "Python 3 (ipykernel)",
   "language": "python",
   "name": "python3"
  },
  "language_info": {
   "codemirror_mode": {
    "name": "ipython",
    "version": 3
   },
   "file_extension": ".py",
   "mimetype": "text/x-python",
   "name": "python",
   "nbconvert_exporter": "python",
   "pygments_lexer": "ipython3",
   "version": "3.11.7"
  }
 },
 "nbformat": 4,
 "nbformat_minor": 5
}
