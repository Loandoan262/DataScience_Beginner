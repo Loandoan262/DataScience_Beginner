{
 "cells": [
  {
   "cell_type": "markdown",
   "id": "5579f39a-0a4f-4e5d-872f-ea7d383684ad",
   "metadata": {},
   "source": [
    "## Variables"
   ]
  },
  {
   "cell_type": "markdown",
   "id": "4df33b1a-a774-4c06-a050-9de325bb0aab",
   "metadata": {},
   "source": [
    "**Q1: Create a variable with name \"x\" and a value of 10. Execute.**"
   ]
  },
  {
   "cell_type": "code",
   "execution_count": 1,
   "id": "d1fb216d-dcde-42e2-85ec-a5663f41ecc6",
   "metadata": {},
   "outputs": [],
   "source": [
    "x=10"
   ]
  },
  {
   "cell_type": "markdown",
   "id": "0f1dca7d-02be-4c5b-a783-3586701b4d6a",
   "metadata": {},
   "source": [
    "**Q1a: Tell the computer to show you the value of that variable.**"
   ]
  },
  {
   "cell_type": "code",
   "execution_count": 2,
   "id": "8f63944f-8106-492a-9509-d21a22a455fe",
   "metadata": {},
   "outputs": [
    {
     "data": {
      "text/plain": [
       "10"
      ]
     },
     "execution_count": 2,
     "metadata": {},
     "output_type": "execute_result"
    }
   ],
   "source": [
    "x"
   ]
  },
  {
   "cell_type": "markdown",
   "id": "22875191-851b-494f-8ecc-b4e049c61acd",
   "metadata": {},
   "source": [
    "**Q1b: Can you think of a second way to obtain the same result?**"
   ]
  },
  {
   "cell_type": "code",
   "execution_count": 3,
   "id": "7230ab83-fe9c-4fcb-9c64-1b9a57403030",
   "metadata": {},
   "outputs": [
    {
     "name": "stdout",
     "output_type": "stream",
     "text": [
      "10\n"
     ]
    }
   ],
   "source": [
    "print(x)"
   ]
  },
  {
   "cell_type": "markdown",
   "id": "81431ed9-fb37-421a-8a08-d10d325d3eae",
   "metadata": {},
   "source": [
    "**Q2: On the same line, create four new variables: a,b,c, and d, that are equal to 10, 20, 30, and 40, respectively.**"
   ]
  },
  {
   "cell_type": "code",
   "execution_count": 9,
   "id": "8448379c-5274-4bdf-a851-e2302262c457",
   "metadata": {},
   "outputs": [],
   "source": [
    "a,b,b,d = 10, 20, 30, 40"
   ]
  },
  {
   "cell_type": "markdown",
   "id": "6752ba96-138c-4e62-b8c0-049fcd684adc",
   "metadata": {},
   "source": [
    "**Q2a: Tell the computer to show you the value corresponding to the variable \"b\".**"
   ]
  },
  {
   "cell_type": "code",
   "execution_count": 7,
   "id": "b03e3258-b8ed-4512-b2b3-275a76694df9",
   "metadata": {},
   "outputs": [
    {
     "data": {
      "text/plain": [
       "20"
      ]
     },
     "execution_count": 7,
     "metadata": {},
     "output_type": "execute_result"
    }
   ],
   "source": [
    "b"
   ]
  },
  {
   "cell_type": "markdown",
   "id": "dc557b1a-c28b-4845-a207-e41f2dcdb4e5",
   "metadata": {},
   "source": [
    "**Q2b: Do the same for \"d\".**"
   ]
  },
  {
   "cell_type": "code",
   "execution_count": 8,
   "id": "6ab845eb-eb3a-4069-b651-d0feb657d477",
   "metadata": {},
   "outputs": [
    {
     "data": {
      "text/plain": [
       "40"
      ]
     },
     "execution_count": 8,
     "metadata": {},
     "output_type": "execute_result"
    }
   ],
   "source": [
    "d"
   ]
  },
  {
   "cell_type": "markdown",
   "id": "61549074-0b14-462c-904d-a1ddef580bb0",
   "metadata": {},
   "source": [
    "## Numbers and Boolean Values"
   ]
  },
  {
   "cell_type": "markdown",
   "id": "5cfb425c-d810-4f72-9baf-d80db9c8609a",
   "metadata": {},
   "source": [
    "**Q1: Create a variable equal to \"True\".**"
   ]
  },
  {
   "cell_type": "code",
   "execution_count": null,
   "id": "a9725ee6-095e-4e70-b7c1-a8139f1b3941",
   "metadata": {},
   "outputs": [],
   "source": []
  },
  {
   "cell_type": "markdown",
   "id": "fcc5a0e9-2c7b-4b4a-8316-b7f35f611f50",
   "metadata": {},
   "source": [
    "**Q1a: Check its type.**"
   ]
  },
  {
   "cell_type": "code",
   "execution_count": null,
   "id": "775b07c5-ace2-41d2-8896-6c2764da7970",
   "metadata": {},
   "outputs": [],
   "source": []
  },
  {
   "cell_type": "markdown",
   "id": "c625363f-6537-402d-8783-ef7eb38af641",
   "metadata": {},
   "source": [
    "**Q2: Create a variable equal to 99.**"
   ]
  },
  {
   "cell_type": "code",
   "execution_count": null,
   "id": "c25383ef-9442-4489-82c3-68ebdf050ca7",
   "metadata": {},
   "outputs": [],
   "source": []
  },
  {
   "cell_type": "markdown",
   "id": "55b506a8-63c4-44f8-927e-b57933ef4416",
   "metadata": {},
   "source": [
    "**Q2b: Check its type.**"
   ]
  },
  {
   "cell_type": "code",
   "execution_count": null,
   "id": "c1e7b8ae-d21f-43d7-a679-eda1fa24a3b5",
   "metadata": {},
   "outputs": [],
   "source": []
  },
  {
   "cell_type": "markdown",
   "id": "3cbb36e6-8cec-4170-bc66-76eb8e4c9174",
   "metadata": {},
   "source": [
    "**Q3: Check the type of the value 0.99.**"
   ]
  },
  {
   "cell_type": "code",
   "execution_count": null,
   "id": "2fb00607-64c1-4a43-9f5b-ec009466d818",
   "metadata": {},
   "outputs": [],
   "source": []
  },
  {
   "cell_type": "markdown",
   "id": "e323abe1-a8c3-460d-885d-f6a7c3a811f9",
   "metadata": {},
   "source": [
    "**Q4: Turn 99 into a float.**"
   ]
  },
  {
   "cell_type": "code",
   "execution_count": null,
   "id": "ef560214-1da0-498f-98bb-02a692998293",
   "metadata": {},
   "outputs": [],
   "source": []
  },
  {
   "cell_type": "markdown",
   "id": "372e695d-a786-46b3-aec3-b232b8128466",
   "metadata": {},
   "source": [
    "**Q5: Turn 0.99 into an integer. What value did you get?**"
   ]
  },
  {
   "cell_type": "code",
   "execution_count": null,
   "id": "43f4b4fe-e348-436f-9b90-32e3c9a649cb",
   "metadata": {},
   "outputs": [],
   "source": []
  },
  {
   "cell_type": "markdown",
   "id": "02d70cb3-a543-4203-acbd-38e7b55cb505",
   "metadata": {},
   "source": [
    "## Strings"
   ]
  },
  {
   "cell_type": "markdown",
   "id": "d5a8f898-2940-4442-954d-723d194ff9eb",
   "metadata": {},
   "source": [
    "**Q1: Assign the value of 100 to the variable \"m\".**"
   ]
  },
  {
   "cell_type": "code",
   "execution_count": null,
   "id": "fa4049b8-3bcb-4de2-9ac1-04645820a754",
   "metadata": {},
   "outputs": [],
   "source": []
  },
  {
   "cell_type": "markdown",
   "id": "e127d747-5735-42e5-84ed-6dd173a39097",
   "metadata": {},
   "source": [
    "**Q2: With the help of the variable \"m\", write one line of code where the output after executuion would be** *100 days*."
   ]
  },
  {
   "cell_type": "code",
   "execution_count": null,
   "id": "895a29df-a621-49d1-a9fd-544377254a46",
   "metadata": {},
   "outputs": [],
   "source": []
  },
  {
   "cell_type": "markdown",
   "id": "85e1b7c9-5be8-4512-81cf-994903cbffb9",
   "metadata": {},
   "source": [
    "**Q3: Produce an output equal to** *It's cool, isn't it?*"
   ]
  },
  {
   "cell_type": "code",
   "execution_count": null,
   "id": "6fd5ba78-13e4-4fee-b52e-0242ded15507",
   "metadata": {},
   "outputs": [],
   "source": []
  },
  {
   "cell_type": "markdown",
   "id": "2b877cae-a898-4123-a9f2-2947441907de",
   "metadata": {},
   "source": [
    "**Q4: Fix the string below.**"
   ]
  },
  {
   "cell_type": "code",
   "execution_count": 1,
   "id": "6dd26691-bbf7-4717-b5ba-fac06e12c1a0",
   "metadata": {},
   "outputs": [
    {
     "ename": "SyntaxError",
     "evalue": "invalid syntax (4258567132.py, line 1)",
     "output_type": "error",
     "traceback": [
      "\u001b[0;36m  Cell \u001b[0;32mIn[1], line 1\u001b[0;36m\u001b[0m\n\u001b[0;31m    'Don't be shy\u001b[0m\n\u001b[0m         ^\u001b[0m\n\u001b[0;31mSyntaxError\u001b[0m\u001b[0;31m:\u001b[0m invalid syntax\n"
     ]
    }
   ],
   "source": [
    "'Don't be shy"
   ]
  },
  {
   "cell_type": "code",
   "execution_count": null,
   "id": "06b15991-f60d-49ab-a6d0-48fbadd959cd",
   "metadata": {},
   "outputs": [],
   "source": []
  },
  {
   "cell_type": "markdown",
   "id": "d5692502-457e-4af6-aad7-afdf677c3bda",
   "metadata": {},
   "source": [
    "## Arithmetic operators"
   ]
  },
  {
   "cell_type": "markdown",
   "id": "651fff88-4457-4226-9047-9770ca0b7129",
   "metadata": {},
   "source": [
    "**Q1: Combine 15 and 23.**"
   ]
  },
  {
   "cell_type": "code",
   "execution_count": null,
   "id": "8ff85063-bcf2-4a3d-842e-5a5026267f53",
   "metadata": {},
   "outputs": [],
   "source": []
  },
  {
   "cell_type": "markdown",
   "id": "47b2d2b8-57ae-4dde-bc0a-083cd1e1090c",
   "metadata": {},
   "source": [
    "**Q2: Subtract 50 from 26.**"
   ]
  },
  {
   "cell_type": "code",
   "execution_count": null,
   "id": "fbc00fcd-2a49-4226-b489-3c0b18dc32a8",
   "metadata": {},
   "outputs": [],
   "source": []
  },
  {
   "cell_type": "markdown",
   "id": "2a454977-546a-4023-8251-f8ae53b20f92",
   "metadata": {},
   "source": [
    "**Q3: Divide 20 by 4.**"
   ]
  },
  {
   "cell_type": "code",
   "execution_count": null,
   "id": "693e7e9b-e6a3-4e2d-8853-608a08db7842",
   "metadata": {},
   "outputs": [],
   "source": []
  },
  {
   "cell_type": "markdown",
   "id": "5f19a287-2cca-4aed-880a-b2ef82dd7374",
   "metadata": {},
   "source": [
    "**Q4: Divide 22 by 4.**"
   ]
  },
  {
   "cell_type": "code",
   "execution_count": null,
   "id": "2764b90c-514e-483f-8b0b-b7ce7e9ce164",
   "metadata": {},
   "outputs": [],
   "source": []
  },
  {
   "cell_type": "markdown",
   "id": "5b1888d0-b37e-47c3-8517-e2e89678c5d9",
   "metadata": {},
   "source": [
    "**Q5: Obtain the remainder of the division of 22 by 4.**"
   ]
  },
  {
   "cell_type": "code",
   "execution_count": null,
   "id": "4a477995-394a-4281-9ad9-6c0fb9aa6a5c",
   "metadata": {},
   "outputs": [],
   "source": []
  },
  {
   "cell_type": "markdown",
   "id": "618f9a28-5322-4f54-9a57-df05e188f8f9",
   "metadata": {},
   "source": [
    "**Q6: Divide the float 22 by 4.**"
   ]
  },
  {
   "cell_type": "code",
   "execution_count": null,
   "id": "f343bedd-385b-4a28-8876-3f29f1893f7c",
   "metadata": {},
   "outputs": [],
   "source": []
  },
  {
   "cell_type": "markdown",
   "id": "370f4b40-de4d-4826-93c9-473f111cd688",
   "metadata": {},
   "source": [
    "**Q7: Multiply 6 by 8.**"
   ]
  },
  {
   "cell_type": "code",
   "execution_count": null,
   "id": "59381687-012f-474b-89b8-b86bcac86d13",
   "metadata": {},
   "outputs": [],
   "source": []
  },
  {
   "cell_type": "markdown",
   "id": "71844580-43b8-45d6-b968-ffdb3585c8c2",
   "metadata": {},
   "source": [
    "**Q8: Raise 15 to the power of 2.**"
   ]
  },
  {
   "cell_type": "code",
   "execution_count": null,
   "id": "ca1bfc77-8029-4012-abda-0ae61ec06b92",
   "metadata": {},
   "outputs": [],
   "source": []
  },
  {
   "cell_type": "markdown",
   "id": "135d25c4-4343-49b6-a8ba-a919d0da6b11",
   "metadata": {},
   "source": [
    "## Comparison Operators"
   ]
  },
  {
   "cell_type": "markdown",
   "id": "c615942d-cccb-40a2-8bf5-58340f07d1e5",
   "metadata": {},
   "source": [
    "**Q1e: Check whether the following code is True or False.**"
   ]
  },
  {
   "cell_type": "markdown",
   "id": "cccfef24-c11e-4ba9-8c5f-e29ce63b18d5",
   "metadata": {},
   "source": [
    "**Q1a: False or not True and not False**"
   ]
  },
  {
   "cell_type": "code",
   "execution_count": null,
   "id": "eef5c047-cbb0-4e37-bccc-6a218003f9f9",
   "metadata": {},
   "outputs": [],
   "source": []
  },
  {
   "cell_type": "markdown",
   "id": "1e105000-53d8-4787-942e-e10d33f115f9",
   "metadata": {},
   "source": [
    "**Q1b: True and not False and True or not False**"
   ]
  },
  {
   "cell_type": "code",
   "execution_count": null,
   "id": "e0d6c706-adc7-4627-b401-6783436bd2c0",
   "metadata": {},
   "outputs": [],
   "source": []
  },
  {
   "cell_type": "markdown",
   "id": "3b3801e2-b0b0-45f3-aba7-967276e11aad",
   "metadata": {},
   "source": [
    "**Q1c: True or False and False**"
   ]
  },
  {
   "cell_type": "code",
   "execution_count": null,
   "id": "05cf1e2c-eabc-44d2-b0e6-e7ca8426951f",
   "metadata": {},
   "outputs": [],
   "source": []
  },
  {
   "cell_type": "markdown",
   "id": "1c93e164-ee3b-49e1-8add-e56aa5d65b52",
   "metadata": {},
   "source": [
    "**Q1d: False and True or False**"
   ]
  },
  {
   "cell_type": "code",
   "execution_count": null,
   "id": "eb592dc5-3b94-449b-bcea-9c1583ddef8a",
   "metadata": {},
   "outputs": [],
   "source": []
  },
  {
   "cell_type": "markdown",
   "id": "8a7881f3-2709-4cae-8fc0-82884776c804",
   "metadata": {},
   "source": [
    "**Q2: Using an identity operator, verify that 10 is not the same as 12.**"
   ]
  },
  {
   "cell_type": "code",
   "execution_count": null,
   "id": "ec6a91e6-dfc4-428a-8c2f-f1b573607f0d",
   "metadata": {},
   "outputs": [],
   "source": []
  },
  {
   "cell_type": "markdown",
   "id": "94f97a14-f17a-4d36-9787-b34dc6ef89bb",
   "metadata": {},
   "source": [
    "**Q3: Using an identity operator, verify that 50 is the same as 50.**"
   ]
  },
  {
   "cell_type": "code",
   "execution_count": null,
   "id": "883712f5-c96e-4e2e-8c66-cbe85b90634e",
   "metadata": {},
   "outputs": [],
   "source": []
  },
  {
   "cell_type": "markdown",
   "id": "0968f86a-2bb3-4c2e-9420-2d18a04e72d9",
   "metadata": {},
   "source": [
    "**Q4: Demonstrate that 100 is not equal to 98.**"
   ]
  },
  {
   "cell_type": "code",
   "execution_count": null,
   "id": "b2dd642a-a973-432d-99ad-0543ade4baf6",
   "metadata": {},
   "outputs": [],
   "source": []
  },
  {
   "cell_type": "markdown",
   "id": "45b156b5-1575-4a1b-9a7c-35ad8a70b2e0",
   "metadata": {},
   "source": [
    "**Q5: Verify that 25 is smaller than 30.**"
   ]
  },
  {
   "cell_type": "code",
   "execution_count": null,
   "id": "1453e6ba-e401-4592-8dd6-7e5bd1fca977",
   "metadata": {},
   "outputs": [],
   "source": []
  },
  {
   "cell_type": "markdown",
   "id": "0150a362-2412-4093-b8bc-5ca33518f222",
   "metadata": {},
   "source": [
    "**Q6: Verify that 5 multiplied by 3 is less than or equal to 5 to the power of 3.**"
   ]
  },
  {
   "cell_type": "code",
   "execution_count": null,
   "id": "c3beae48-838e-44fa-98f7-5d05fae90dc0",
   "metadata": {},
   "outputs": [],
   "source": []
  },
  {
   "cell_type": "markdown",
   "id": "63ebac83-3728-4590-878e-4dae9289a3e1",
   "metadata": {},
   "source": [
    "**Q7: Verify that 100 is equal to 10 square.**"
   ]
  },
  {
   "cell_type": "code",
   "execution_count": null,
   "id": "08aa1868-a271-493b-9561-6705a00e8b43",
   "metadata": {},
   "outputs": [],
   "source": []
  },
  {
   "cell_type": "markdown",
   "id": "12167cf3-928e-400d-b3bd-27bbf4d29915",
   "metadata": {},
   "source": [
    "**Q8: Verify that 53 is not equal to 46.**"
   ]
  },
  {
   "cell_type": "code",
   "execution_count": null,
   "id": "085c896c-4d57-4468-8166-aac6cd58e145",
   "metadata": {},
   "outputs": [],
   "source": []
  },
  {
   "cell_type": "markdown",
   "id": "55a86915-ce63-48f1-b81c-57887cb9ab21",
   "metadata": {},
   "source": [
    "## Reassign Values"
   ]
  },
  {
   "cell_type": "markdown",
   "id": "bd002a5b-f970-495e-9bb7-3f12be9f21b7",
   "metadata": {},
   "source": [
    "**Q1: Assign the value of 14 to a variable p.**"
   ]
  },
  {
   "cell_type": "code",
   "execution_count": null,
   "id": "abeb7798-0cc7-419c-a6c9-43b43b7fbb8b",
   "metadata": {},
   "outputs": [],
   "source": []
  },
  {
   "cell_type": "markdown",
   "id": "7eb31439-3948-4b19-b566-eeb5c1856c2e",
   "metadata": {},
   "source": [
    "**Q1a: Calculate p + 10.**"
   ]
  },
  {
   "cell_type": "code",
   "execution_count": null,
   "id": "250e57be-723e-4abd-9a2f-31f2453990c3",
   "metadata": {},
   "outputs": [],
   "source": []
  },
  {
   "cell_type": "markdown",
   "id": "b845c689-abbf-491e-a7f5-a378c38f82cb",
   "metadata": {},
   "source": [
    "**Q1b: Now, assign 30 to the variable p.**"
   ]
  },
  {
   "cell_type": "code",
   "execution_count": null,
   "id": "ca20761c-0d12-4b41-88db-92806f76a492",
   "metadata": {},
   "outputs": [],
   "source": []
  },
  {
   "cell_type": "markdown",
   "id": "ff393b4d-b59c-4e08-8008-4b67c7e824bf",
   "metadata": {},
   "source": [
    "**Q1c: Calculate p + 10.**"
   ]
  },
  {
   "cell_type": "code",
   "execution_count": null,
   "id": "9e368d34-3c37-48ad-ab90-1a703cc8d182",
   "metadata": {},
   "outputs": [],
   "source": []
  },
  {
   "cell_type": "markdown",
   "id": "1b2a234c-207a-431e-bb02-ae38394a0da8",
   "metadata": {},
   "source": [
    "**Observe how the value of p is always the last one you have assigned.**"
   ]
  },
  {
   "cell_type": "markdown",
   "id": "5328fdc6-5d37-409f-a2ef-29f7b688f5b1",
   "metadata": {},
   "source": [
    "## Indexing Elements"
   ]
  },
  {
   "cell_type": "markdown",
   "id": "fa608f6b-2e6b-4886-b6cf-4eba085a8e56",
   "metadata": {},
   "source": [
    "**Q1: Extract the letter 'B' from \"Bingo!\".**"
   ]
  },
  {
   "cell_type": "code",
   "execution_count": null,
   "id": "933396ad-9baf-4d91-8280-3ff17c0313be",
   "metadata": {},
   "outputs": [],
   "source": []
  },
  {
   "cell_type": "markdown",
   "id": "b035aa34-9a2e-4d90-9955-beb46a496c4f",
   "metadata": {},
   "source": [
    "**Q2: Extract the letter \"u\" from \"Constitution\".**"
   ]
  },
  {
   "cell_type": "code",
   "execution_count": null,
   "id": "e9800f4a-d5da-4730-b002-d9deb4244182",
   "metadata": {},
   "outputs": [],
   "source": []
  },
  {
   "cell_type": "markdown",
   "id": "1b8e80b7-b6eb-4962-8c56-4d762a900215",
   "metadata": {},
   "source": [
    "## Lists"
   ]
  },
  {
   "cell_type": "markdown",
   "id": "509afe28-457d-40b2-87cc-887c6fd250a1",
   "metadata": {},
   "source": [
    "**Q1: Create a list, called \"numbers\". Let it contain the numbers 10, 25, 40, and 50.**"
   ]
  },
  {
   "cell_type": "code",
   "execution_count": null,
   "id": "fe6d7c98-1d4d-4f3b-8971-6ac8202e27ba",
   "metadata": {},
   "outputs": [],
   "source": []
  },
  {
   "cell_type": "markdown",
   "id": "2ea27472-e5f9-4d0d-b15a-97e488e39ab5",
   "metadata": {},
   "source": [
    "**Q1a: Print the element at index 2 from the list.**"
   ]
  },
  {
   "cell_type": "code",
   "execution_count": null,
   "id": "8267dda2-f817-4497-8397-753462d0c472",
   "metadata": {},
   "outputs": [],
   "source": []
  },
  {
   "cell_type": "markdown",
   "id": "b5036ee0-0525-443c-900a-18764c19d469",
   "metadata": {},
   "source": [
    "**Q1b: Print the 0th element.**"
   ]
  },
  {
   "cell_type": "code",
   "execution_count": null,
   "id": "bab3e574-7305-407c-bdd8-21a8064cd577",
   "metadata": {},
   "outputs": [],
   "source": []
  },
  {
   "cell_type": "markdown",
   "id": "990a3f6e-1003-4054-a460-28b8a8521935",
   "metadata": {},
   "source": [
    "**Q1c: Print the third-to-last element using a minus sign in the brackets.**"
   ]
  },
  {
   "cell_type": "code",
   "execution_count": null,
   "id": "31e7c9c0-7daf-4632-8abf-4e2223f94693",
   "metadata": {},
   "outputs": [],
   "source": []
  },
  {
   "cell_type": "markdown",
   "id": "c03172a6-978a-4b12-ac5a-bce7d1b858a8",
   "metadata": {},
   "source": [
    "**Q1d: Substitute the number 10 with the number 15.**"
   ]
  },
  {
   "cell_type": "code",
   "execution_count": null,
   "id": "934c669e-3e4f-401c-9696-745178c7012b",
   "metadata": {},
   "outputs": [],
   "source": []
  },
  {
   "cell_type": "markdown",
   "id": "775bacb9-f974-49bf-94ad-a7952baab6c7",
   "metadata": {},
   "source": [
    "**Q1e: Delete the number 25 from the \"numbers\" list.**"
   ]
  },
  {
   "cell_type": "code",
   "execution_count": null,
   "id": "722c9106-d395-4391-85bf-e46d24248b7c",
   "metadata": {},
   "outputs": [],
   "source": []
  },
  {
   "cell_type": "markdown",
   "id": "685dfa6b-bced-42cd-8a77-0ff84a247848",
   "metadata": {},
   "source": [
    "**Q2: numbers = [15, 40, 50, 100, 115, 140]** "
   ]
  },
  {
   "cell_type": "code",
   "execution_count": 6,
   "id": "070d6e60-5a97-4553-8a77-d0f8563f6b5f",
   "metadata": {},
   "outputs": [],
   "source": [
    "numbers = [15, 40, 50, 100, 115, 140]"
   ]
  },
  {
   "cell_type": "markdown",
   "id": "e18e7f58-1d81-4a84-9fde-e124823e7c61",
   "metadata": {},
   "source": [
    "**Q2a: Using list slicing, obtain the numbers 100 and 115.**"
   ]
  },
  {
   "cell_type": "code",
   "execution_count": null,
   "id": "da9da40b-0901-4f02-9946-4dfab97ab664",
   "metadata": {},
   "outputs": [],
   "source": []
  },
  {
   "cell_type": "markdown",
   "id": "5f90a1a4-6b4d-4d02-a0c0-1ceff5cb8898",
   "metadata": {},
   "source": [
    "**Q2b: Using slicing, extract the first four elements from the list.**"
   ]
  },
  {
   "cell_type": "code",
   "execution_count": null,
   "id": "8813ea16-0fc1-4ea7-8465-88b1847433ee",
   "metadata": {},
   "outputs": [],
   "source": []
  },
  {
   "cell_type": "markdown",
   "id": "7d60b83f-baa9-461c-a102-41970a008fa4",
   "metadata": {},
   "source": [
    "**Q2c: Using slicing, extract all the elements from the list from the 3rd position onwards.**"
   ]
  },
  {
   "cell_type": "code",
   "execution_count": null,
   "id": "3b7fd53c-cdd1-4064-8cde-12a4ad2a8927",
   "metadata": {},
   "outputs": [],
   "source": []
  },
  {
   "cell_type": "markdown",
   "id": "c3b3188f-f687-42c9-aa35-e052c9cdb179",
   "metadata": {},
   "source": [
    "**Q2d: Using slicing, extract the last 4 elements from the list.**"
   ]
  },
  {
   "cell_type": "code",
   "execution_count": null,
   "id": "b4f04aab-8768-4ab8-bf4c-3779f24b01ed",
   "metadata": {},
   "outputs": [],
   "source": []
  },
  {
   "cell_type": "markdown",
   "id": "2b476491-a8a5-4a51-b30a-f67e39ccc877",
   "metadata": {},
   "source": [
    "**Q2e: Which is the position (index) of the value 15?**"
   ]
  },
  {
   "cell_type": "code",
   "execution_count": null,
   "id": "f011e9b4-bfad-4fce-b4ef-0dd37104c85b",
   "metadata": {},
   "outputs": [],
   "source": []
  },
  {
   "cell_type": "markdown",
   "id": "626e8ec8-a7c0-4227-9aea-94cdea92d8d9",
   "metadata": {},
   "source": [
    "**Q2f: Create a list, called \"two_numbers\". Let its elements be the values 1 and 2. Then, create a new one, named \"all_numbers\", that will containt both the \"numbers\" and the \"two_numbers\" lists.**"
   ]
  },
  {
   "cell_type": "code",
   "execution_count": null,
   "id": "2ab035e8-ee10-4c57-ad80-bb207747e9e4",
   "metadata": {},
   "outputs": [],
   "source": []
  },
  {
   "cell_type": "markdown",
   "id": "f6b23bb7-8b5a-4939-9cd5-250fe78878c5",
   "metadata": {},
   "source": [
    "**Q2g: Sort all the numbers in the \"Numbers\" list from the largest to the smallest.**"
   ]
  },
  {
   "cell_type": "code",
   "execution_count": null,
   "id": "c3ea1ac1-de3c-48cc-9d9d-f198c1ca1392",
   "metadata": {},
   "outputs": [],
   "source": []
  },
  {
   "cell_type": "markdown",
   "id": "613f5d2e-5514-47b1-a7d2-9652d1f83d55",
   "metadata": {},
   "source": [
    "**Q3a: Append the number 100 to the list below.**"
   ]
  },
  {
   "cell_type": "code",
   "execution_count": 7,
   "id": "74aa9484-2e30-4866-b4c3-e6ca806713d0",
   "metadata": {},
   "outputs": [],
   "source": [
    "num_list = [15, 40, 50]"
   ]
  },
  {
   "cell_type": "code",
   "execution_count": null,
   "id": "fabd3749-35a8-4ef4-8dcd-c37c4defa247",
   "metadata": {},
   "outputs": [],
   "source": []
  },
  {
   "cell_type": "markdown",
   "id": "87c799dc-b7f2-4fe9-8b58-dc4f18586a3c",
   "metadata": {},
   "source": [
    "**Q3b: With the help of the \"extend method\", add the numbers 115 an 140 to the list.**"
   ]
  },
  {
   "cell_type": "code",
   "execution_count": null,
   "id": "97d3a12e-333e-4314-ba5e-62939ca7af2a",
   "metadata": {},
   "outputs": [],
   "source": []
  },
  {
   "cell_type": "markdown",
   "id": "af205ca9-170d-4c5a-af05-07fb7f712194",
   "metadata": {},
   "source": [
    "**Q3c: Print a statement, saying \"The fourth element of the num_list is:\" and then designate the value of the fourth element.**"
   ]
  },
  {
   "cell_type": "code",
   "execution_count": null,
   "id": "fbf52fa3-c31c-4267-af77-41d2b76cab20",
   "metadata": {},
   "outputs": [],
   "source": []
  },
  {
   "cell_type": "markdown",
   "id": "8852d509-f41c-499f-a549-4fc8693445bf",
   "metadata": {},
   "source": [
    "**Q3d: How many elements are there in the num_list?**"
   ]
  },
  {
   "cell_type": "code",
   "execution_count": null,
   "id": "b7370f00-ff67-4061-a471-b7718b72dc20",
   "metadata": {},
   "outputs": [],
   "source": []
  },
  {
   "cell_type": "markdown",
   "id": "35ce08dd-731c-484e-acba-5fa67c8b4009",
   "metadata": {},
   "source": [
    "## Tuples"
   ]
  },
  {
   "cell_type": "markdown",
   "id": "045b5290-449c-4563-8df9-5ca127b307d2",
   "metadata": {},
   "source": [
    "**Q1: Create a tuple, called \"Cars\", with elements \"BMW\", \"Dodge\", and \"Ford\".**"
   ]
  },
  {
   "cell_type": "code",
   "execution_count": null,
   "id": "59ed862f-1908-4edd-8051-a2e31ec59957",
   "metadata": {},
   "outputs": [],
   "source": []
  },
  {
   "cell_type": "markdown",
   "id": "14e55dfa-0a82-40f6-adc2-89aa1ad7a4c8",
   "metadata": {},
   "source": [
    "**Q1a: Access the second element of this tuple.**"
   ]
  },
  {
   "cell_type": "code",
   "execution_count": null,
   "id": "94a074e0-f606-493c-b362-c9bb6131bb78",
   "metadata": {},
   "outputs": [],
   "source": []
  },
  {
   "cell_type": "markdown",
   "id": "de902479-3c39-4e05-a5fe-a1319e74e4e7",
   "metadata": {},
   "source": [
    "**Q2: Call a method that would allow you to extract the provided name and age separately. Then print the \"name\" and \"age\" values to see if you worked correctly.**"
   ]
  },
  {
   "cell_type": "code",
   "execution_count": 1,
   "id": "1b20cbcd-df9e-4649-a5ed-e2180f9b380b",
   "metadata": {},
   "outputs": [
    {
     "ename": "ValueError",
     "evalue": "too many values to unpack (expected 2)",
     "output_type": "error",
     "traceback": [
      "\u001b[0;31m---------------------------------------------------------------------------\u001b[0m",
      "\u001b[0;31mValueError\u001b[0m                                Traceback (most recent call last)",
      "Cell \u001b[0;32mIn[1], line 1\u001b[0m\n\u001b[0;32m----> 1\u001b[0m name, age \u001b[38;5;241m=\u001b[39m \u001b[38;5;124m'\u001b[39m\u001b[38;5;124mPeter,24\u001b[39m\u001b[38;5;124m'\u001b[39m\n",
      "\u001b[0;31mValueError\u001b[0m: too many values to unpack (expected 2)"
     ]
    }
   ],
   "source": [
    "name, age = 'Peter,24'"
   ]
  },
  {
   "cell_type": "code",
   "execution_count": null,
   "id": "8a61f064-97db-49ed-950b-2bb5a6f811bd",
   "metadata": {},
   "outputs": [],
   "source": []
  },
  {
   "cell_type": "markdown",
   "id": "680b9a01-2d32-4185-bcd0-af569bdef4ab",
   "metadata": {},
   "source": [
    "**Q3: Create a function that takes as arguments the two values of a rectangle and then returns the Area and the Perimeter of the rectangle.\n",
    "Call the function with arguments 2 and 10 to verify it worked correctly.**"
   ]
  },
  {
   "cell_type": "code",
   "execution_count": null,
   "id": "0581fc12-6000-4daf-b11f-2058c21f2e9c",
   "metadata": {},
   "outputs": [],
   "source": []
  },
  {
   "cell_type": "markdown",
   "id": "01356300-5d11-41e4-80ab-1c01af561bb2",
   "metadata": {},
   "source": [
    "## Dictionaries"
   ]
  },
  {
   "cell_type": "markdown",
   "id": "6fc06779-dffc-402a-bfe3-ccb7c5bc24ae",
   "metadata": {},
   "source": [
    "**Q1: This is the menu of a close-by restaurant:**"
   ]
  },
  {
   "cell_type": "code",
   "execution_count": 1,
   "id": "d5a075ab-fd1d-4c46-944e-d224c641afd3",
   "metadata": {},
   "outputs": [],
   "source": [
    "menu = {'meal_1':'Spaghetti', 'meal_2':'Fries', 'meal_3':'Hamburger', 'meal_4':'Lasagna'}"
   ]
  },
  {
   "cell_type": "markdown",
   "id": "33e9803d-cada-40d2-802d-cd0517ef2070",
   "metadata": {},
   "source": [
    "**Q1a: What is the second meal in the list?**"
   ]
  },
  {
   "cell_type": "code",
   "execution_count": null,
   "id": "45f0dd98-33cc-43fa-a1e0-91f6c8664961",
   "metadata": {},
   "outputs": [],
   "source": []
  },
  {
   "cell_type": "markdown",
   "id": "a0e1f70f-65d1-44f1-a428-4019d86ed902",
   "metadata": {},
   "source": [
    "**Q1b: Add a new meal - \"Soup\".**"
   ]
  },
  {
   "cell_type": "code",
   "execution_count": null,
   "id": "aa5c4625-fd5b-4018-8aa8-fc5f409dcaa7",
   "metadata": {},
   "outputs": [],
   "source": []
  },
  {
   "cell_type": "markdown",
   "id": "be49bdab-133b-4ebb-a786-05e083828c17",
   "metadata": {},
   "source": [
    "**Q1c: Replace the Hamburger with a Cheeseburger.**"
   ]
  },
  {
   "cell_type": "code",
   "execution_count": null,
   "id": "8dde9d88-1d3f-4599-8314-08751d52f278",
   "metadata": {},
   "outputs": [],
   "source": []
  },
  {
   "cell_type": "markdown",
   "id": "bd66c8f0-31e5-434b-a7e5-5c813998a915",
   "metadata": {},
   "source": [
    "**Q1d: Attach the Desserts list in the form of a sixth meal.**"
   ]
  },
  {
   "cell_type": "code",
   "execution_count": 2,
   "id": "408149ea-1ce6-419e-9226-7c631572203b",
   "metadata": {},
   "outputs": [],
   "source": [
    "dessert = ['Pancakes', 'Ice-cream', 'Tiramisu']"
   ]
  },
  {
   "cell_type": "code",
   "execution_count": null,
   "id": "4fa4628d-cfc6-4b47-b4e2-e4321f8e2ed4",
   "metadata": {},
   "outputs": [],
   "source": []
  },
  {
   "cell_type": "markdown",
   "id": "e65fb686-5c85-4ed7-ac19-f6f4602ecab8",
   "metadata": {},
   "source": [
    "**Q1e: Create a new dictionary that contains the first five meals as keys and assign the following five values as prices (in dollars):\n",
    "10, 5, 8, 12, 5.** \n",
    "Start by *Price_list = {}*."
   ]
  },
  {
   "cell_type": "code",
   "execution_count": null,
   "id": "acdd3280-cfe6-4794-a2e8-4d9a129a03d6",
   "metadata": {},
   "outputs": [],
   "source": []
  },
  {
   "cell_type": "markdown",
   "id": "a65ca817-bb00-41e2-9599-b6fd49ec2050",
   "metadata": {},
   "source": [
    "**Q1f: Use the *.get()* method to check the price of the Spaghetti.**"
   ]
  },
  {
   "cell_type": "code",
   "execution_count": null,
   "id": "4c7e6499-1995-414f-9eb7-9004ca2a102d",
   "metadata": {},
   "outputs": [],
   "source": []
  },
  {
   "cell_type": "markdown",
   "id": "355030e9-6bae-43c1-83e1-28b8a7dbd777",
   "metadata": {},
   "source": [
    "**Q2: Calculate how much a customer spent on products with a price of 5 dollars or more.**"
   ]
  },
  {
   "cell_type": "code",
   "execution_count": 4,
   "id": "3cfb44b1-7e21-4e27-ac76-9ee1c6e6d48c",
   "metadata": {},
   "outputs": [],
   "source": [
    "prices = {\n",
    "    \"box_of_spaghetti\" : 4,\n",
    "    \"lasagna\"  : 5,\n",
    "    \"hamburger\" : 2\n",
    "   }\n",
    "quantity = {\n",
    "    \"box_of_spaghetti\" : 6,\n",
    "    \"lasagna\"  : 10,\n",
    "    \"hamburger\" : 0\n",
    "    }\n",
    "\n",
    "money_spent = 0"
   ]
  },
  {
   "cell_type": "code",
   "execution_count": null,
   "id": "3cd852ae-1049-4c6d-ac7c-dcc5b3ca14aa",
   "metadata": {},
   "outputs": [],
   "source": []
  },
  {
   "cell_type": "markdown",
   "id": "ae0086fc-2f2b-4b3d-a8d2-276120d3caf1",
   "metadata": {},
   "source": [
    "**Q3: How much did a customer spend on products that cost less than 5 dollars?**"
   ]
  },
  {
   "cell_type": "code",
   "execution_count": 5,
   "id": "6d754cf5-bbb5-473d-808b-e2923819ad61",
   "metadata": {},
   "outputs": [],
   "source": [
    "prices = {\n",
    "    \"box_of_spaghetti\" : 4,\n",
    "    \"lasagna\"  : 5,\n",
    "    \"hamburger\" : 2\n",
    "   }\n",
    "quantity = {\n",
    "    \"box_of_spaghetti\" : 6,\n",
    "    \"lasagna\"  : 10,\n",
    "    \"hamburger\" : 0\n",
    "    }\n",
    "\n",
    "money_spent = 0"
   ]
  },
  {
   "cell_type": "code",
   "execution_count": null,
   "id": "ce2fe27f-df74-43d2-b23e-81aca19de738",
   "metadata": {},
   "outputs": [],
   "source": []
  },
  {
   "cell_type": "markdown",
   "id": "92e16b2b-f99c-4212-8140-1a29b299409f",
   "metadata": {},
   "source": [
    "## Create Lists with the range() Function"
   ]
  },
  {
   "cell_type": "markdown",
   "id": "936862d5-3963-4cda-868e-ad1130e4ef60",
   "metadata": {},
   "source": [
    "**Q1: Use the range() function to create a list with all numbers from 1 to 10.**"
   ]
  },
  {
   "cell_type": "code",
   "execution_count": null,
   "id": "27e37b5d-2922-4a32-abda-9cfe6d699d43",
   "metadata": {},
   "outputs": [],
   "source": []
  },
  {
   "cell_type": "markdown",
   "id": "593d9dc4-5b7d-4bdf-88dd-4ca875f870e9",
   "metadata": {},
   "source": [
    "**Q2: Use the range() function to create a list with all numbers from 0 to 19.**"
   ]
  },
  {
   "cell_type": "code",
   "execution_count": null,
   "id": "cd33f21c-9a21-4552-aa33-731129121ab3",
   "metadata": {},
   "outputs": [],
   "source": []
  },
  {
   "cell_type": "markdown",
   "id": "bc50381d-0836-48c0-8ac3-bdbaeaf4187c",
   "metadata": {},
   "source": [
    "**Q3: Use the range function to create a list with all even numbers from 0 to 30 included.**"
   ]
  },
  {
   "cell_type": "code",
   "execution_count": null,
   "id": "dc8a7876-2318-44f4-b4c5-ad12190992a2",
   "metadata": {},
   "outputs": [],
   "source": []
  },
  {
   "cell_type": "markdown",
   "id": "521aa990-59df-4ee1-a460-f437d239fbc0",
   "metadata": {},
   "source": [
    "## Else if"
   ]
  },
  {
   "cell_type": "markdown",
   "id": "fba7847e-92a8-4672-b4f0-876d8b081e1e",
   "metadata": {},
   "source": [
    "**Q1: Create a two-line code that prints \"The condition has been satisfied\" if 5 is greater than 2.**"
   ]
  },
  {
   "cell_type": "code",
   "execution_count": null,
   "id": "2b7da0b7-ccdd-4e23-88d8-c67c26e75988",
   "metadata": {},
   "outputs": [],
   "source": []
  },
  {
   "cell_type": "markdown",
   "id": "2782eb8f-2936-421a-a3a0-f34b856fe65a",
   "metadata": {},
   "source": [
    "**Q2: Assign 10 to the variable x and 25 to the variable y. In the same cell, create 2 conditional statements. Let the first one print \"Both conditions are correct\" if x is greater then 3 and y is greater than 13. Let the second one print \"At least one of the conditions is false\" if x is less than or equal to 3 and y is less than or equal to 13. \n",
    "Change the values assigned to x and y and re-run the cell to verify your code still works.**"
   ]
  },
  {
   "cell_type": "code",
   "execution_count": null,
   "id": "b511c796-f448-4128-af1a-3495193f1423",
   "metadata": {},
   "outputs": [],
   "source": []
  },
  {
   "cell_type": "markdown",
   "id": "ccff9ec2-9ba6-49d7-bc80-9bb50a04fa99",
   "metadata": {},
   "source": [
    "**Q3: Assign 200 to x.\n",
    "Create the following piece of code:\n",
    "If x > 200, print out \"Big\"; \n",
    "If x > 100 and x <= 200, print out \"Average\"; \n",
    "and If x <= 100, print out \"Small\".\n",
    "Use the If, Elif, and Else keywords in your code.**"
   ]
  },
  {
   "cell_type": "code",
   "execution_count": null,
   "id": "81c6409b-1b82-4712-8b57-0519a3774e90",
   "metadata": {},
   "outputs": [],
   "source": []
  },
  {
   "cell_type": "markdown",
   "id": "fa2c7d3b-83a6-4425-9e5e-bdb0f6fd9d61",
   "metadata": {},
   "source": [
    "**Q3a: Change the initial value of x to see how your output will vary.**"
   ]
  },
  {
   "cell_type": "code",
   "execution_count": null,
   "id": "1e9b867e-d8ce-4c79-bfcd-ae507fa7e43a",
   "metadata": {},
   "outputs": [],
   "source": []
  },
  {
   "cell_type": "markdown",
   "id": "f3962639-27b7-4913-ad5f-1c1a14be333c",
   "metadata": {},
   "source": [
    "**Q3b: Keep the first two conditions of the previous code. Add a new ELIF statement, so that, eventually, the program prints \"Small\" if x >= 0 and x <= 100, and \"Negative\" if x < 0. \n",
    "Let x carry the value of 50 and then of -50 to check if your code is correct.**"
   ]
  },
  {
   "cell_type": "code",
   "execution_count": null,
   "id": "7ca682b8-5f61-41d1-9a6b-85bca3d52687",
   "metadata": {},
   "outputs": [],
   "source": []
  },
  {
   "cell_type": "markdown",
   "id": "eb16d77d-2eb8-433f-8771-9a550eba854d",
   "metadata": {},
   "source": [
    "**Q4: Let x represent the number of orders received during a certain day. \n",
    "Assign 102 to x. Create a program that prints \"A busy day\" if x is greater than 100, and \"A calm day\" otherwise. Change x to 97 to verify your code works properly.**"
   ]
  },
  {
   "cell_type": "code",
   "execution_count": null,
   "id": "48a0b60e-28c4-4f81-8efb-5d87e3bc768f",
   "metadata": {},
   "outputs": [],
   "source": []
  },
  {
   "cell_type": "markdown",
   "id": "9fe8a931-852d-4051-a12a-6f814e5c3c40",
   "metadata": {},
   "source": [
    "## For Loops"
   ]
  },
  {
   "cell_type": "markdown",
   "id": "fcdeac38-e703-412e-bb0d-9f3e5e7833e4",
   "metadata": {},
   "source": [
    "**Q1: Create a For loop that prints every digit on a new line.**"
   ]
  },
  {
   "cell_type": "code",
   "execution_count": null,
   "id": "38729b4f-6330-438b-946a-b046b1618939",
   "metadata": {},
   "outputs": [],
   "source": [
    "digits = [0,1,2,3,4,5,6,7,8,9]"
   ]
  },
  {
   "cell_type": "code",
   "execution_count": null,
   "id": "ada26911-6e38-4973-80a8-9ee68c3e91ec",
   "metadata": {},
   "outputs": [],
   "source": []
  },
  {
   "cell_type": "markdown",
   "id": "c62c5a5b-7501-4b9e-b796-76f4bf9cad50",
   "metadata": {},
   "source": [
    "**Q1a: Adjust the code, so the digits are all printed on the same line.** *Hint: use parameter \"end\" of print()*"
   ]
  },
  {
   "cell_type": "code",
   "execution_count": null,
   "id": "45da9b99-670e-4404-876f-6e28cc8e7dff",
   "metadata": {},
   "outputs": [],
   "source": []
  },
  {
   "cell_type": "markdown",
   "id": "769edd5b-e020-49c8-9b77-d260b4d36a39",
   "metadata": {},
   "source": [
    "## While Loops "
   ]
  },
  {
   "cell_type": "markdown",
   "id": "2bb72ae0-250f-4070-9474-75cc90f5d94b",
   "metadata": {},
   "source": [
    "**Q1: Create a while loop that will print all odd numbers from 0 to 30 on the same row.**"
   ]
  },
  {
   "cell_type": "code",
   "execution_count": null,
   "id": "7e518060-f1de-4b38-b78d-b59ac1b6a746",
   "metadata": {},
   "outputs": [],
   "source": []
  },
  {
   "cell_type": "markdown",
   "id": "296c73db-8518-4046-8a48-3fbdd8c56f37",
   "metadata": {},
   "source": [
    "## Use Conditional Statements and Loops Together"
   ]
  },
  {
   "cell_type": "markdown",
   "id": "9ba873ab-dcdb-4e79-8738-9effa714ae1d",
   "metadata": {},
   "source": [
    "**Q1: Create a For loop that will print all the variables from a given list multiplied by 2. Let the list contain all numbers from 1 to 10. Create it with the help of the range() function.**"
   ]
  },
  {
   "cell_type": "code",
   "execution_count": null,
   "id": "3d8f1b59-8058-434e-b995-7f623e78c93e",
   "metadata": {},
   "outputs": [],
   "source": []
  },
  {
   "cell_type": "markdown",
   "id": "b54844f8-eba5-43b8-adc3-9de6b3cf9175",
   "metadata": {},
   "source": [
    "**Q2: Create a little program that runs a loop over all values from 1 to 30. Let it print all Odd numbers, and in the place of the even numbers, it should print \"Even\".\n",
    "Help yourself with the range() function to solve this exercise.**"
   ]
  },
  {
   "cell_type": "code",
   "execution_count": null,
   "id": "f283e729-da9a-4f37-a901-b14a5abca442",
   "metadata": {},
   "outputs": [],
   "source": []
  },
  {
   "cell_type": "markdown",
   "id": "20bf87a4-fe90-4b13-9590-8e57d89759e9",
   "metadata": {},
   "source": [
    "**Q3: You have the following list of numbers. Iterate over this list, printing out each list value multiplied by 10.**"
   ]
  },
  {
   "cell_type": "code",
   "execution_count": 8,
   "id": "1b265738-a45d-4e69-97fd-0d8ece2660e5",
   "metadata": {},
   "outputs": [],
   "source": [
    "n = [1,2,3,4,5,6]"
   ]
  },
  {
   "cell_type": "code",
   "execution_count": null,
   "id": "48978989-ebba-4397-a459-b33dd0ccfe84",
   "metadata": {},
   "outputs": [],
   "source": []
  },
  {
   "cell_type": "markdown",
   "id": "9d228905-5712-4189-9479-5387647f87f1",
   "metadata": {},
   "source": [
    "## Structure Your Code with Indentation"
   ]
  },
  {
   "cell_type": "markdown",
   "id": "521a9a8e-f9d1-4ab8-ae1b-270fc75d9c82",
   "metadata": {},
   "source": [
    "**Q1: Use indentation properly to print the result of the function with an argument of 3.**"
   ]
  },
  {
   "cell_type": "code",
   "execution_count": null,
   "id": "7709ebf7-3df4-471e-9a5a-1a0a7da3e722",
   "metadata": {},
   "outputs": [],
   "source": [
    "def ten(x):\n",
    "    x = 10\n",
    "    return x\n",
    "    print (ten(3))"
   ]
  },
  {
   "cell_type": "code",
   "execution_count": null,
   "id": "b3ee0412-a036-4baa-96bc-0d11ab4000c0",
   "metadata": {},
   "outputs": [],
   "source": []
  },
  {
   "cell_type": "markdown",
   "id": "2b0d5247-dedf-48bb-a23c-37c374201e2a",
   "metadata": {},
   "source": [
    "## Notable Built-In Functions in Python"
   ]
  },
  {
   "cell_type": "markdown",
   "id": "fb5b502c-6777-497d-8ec3-405724dbffc2",
   "metadata": {},
   "source": [
    "**Q1a: Obtain the maximum number among the values 25, 65, 890, and 15.**"
   ]
  },
  {
   "cell_type": "code",
   "execution_count": null,
   "id": "e1ac2406-db31-40bc-b9d2-995b87d6557a",
   "metadata": {},
   "outputs": [],
   "source": []
  },
  {
   "cell_type": "markdown",
   "id": "8d1e69d7-2b64-49fa-9445-28eb9562ae8b",
   "metadata": {},
   "source": [
    "**Q1b: Obtain the minimum number among the values 25, 65, 890, and 15.**"
   ]
  },
  {
   "cell_type": "code",
   "execution_count": null,
   "id": "a4db243c-5b47-44e6-9635-34a731aae9ab",
   "metadata": {},
   "outputs": [],
   "source": []
  },
  {
   "cell_type": "markdown",
   "id": "c360fbcf-10c5-4147-a05a-65c35dabc6fd",
   "metadata": {},
   "source": [
    "**Q2: Find the absolute value of -100**"
   ]
  },
  {
   "cell_type": "code",
   "execution_count": null,
   "id": "ca5a9441-1908-4086-b57b-6284d92454ec",
   "metadata": {},
   "outputs": [],
   "source": []
  },
  {
   "cell_type": "markdown",
   "id": "eb8c41a2-f160-441c-a6bb-b978be10b736",
   "metadata": {},
   "source": [
    "**Q3: Round the value of 55.5. Did you obtain 56.0?**"
   ]
  },
  {
   "cell_type": "code",
   "execution_count": null,
   "id": "5b8d5176-2e05-4eee-b640-f94ce9424df0",
   "metadata": {},
   "outputs": [],
   "source": []
  },
  {
   "cell_type": "markdown",
   "id": "7759b28a-a9e9-4257-9464-d4f78f5f288c",
   "metadata": {},
   "source": [
    "**Q4: Round 35.56789 to the third digit.**"
   ]
  },
  {
   "cell_type": "code",
   "execution_count": null,
   "id": "2887b758-0bf8-42d5-a593-c4e5db93d675",
   "metadata": {},
   "outputs": [],
   "source": []
  },
  {
   "cell_type": "markdown",
   "id": "c8192090-5d59-4277-a6fd-f8cefb27d82f",
   "metadata": {},
   "source": [
    "**Q5: Find the sum of all elements in the provided list, called \"nums\".**"
   ]
  },
  {
   "cell_type": "code",
   "execution_count": 9,
   "id": "0b3fff9d-860d-4995-99e7-64530b9efaac",
   "metadata": {},
   "outputs": [],
   "source": [
    "nums = [1, 5, 64, 24.5]"
   ]
  },
  {
   "cell_type": "code",
   "execution_count": null,
   "id": "d425df33-b29f-4c19-b6a8-7d14f81182ba",
   "metadata": {},
   "outputs": [],
   "source": []
  },
  {
   "cell_type": "markdown",
   "id": "61bdbb60-cbcd-49ca-87b2-cfe5e29f6630",
   "metadata": {},
   "source": [
    "**Q6: Use a built-in function to raise 10 to the power of 3.**"
   ]
  },
  {
   "cell_type": "code",
   "execution_count": null,
   "id": "53f4fad1-c987-4285-ab38-06a27071f2e0",
   "metadata": {},
   "outputs": [],
   "source": []
  },
  {
   "cell_type": "markdown",
   "id": "6f02bab9-3d27-488a-8295-636de0c39721",
   "metadata": {},
   "source": [
    "**Q7: How many characters are there in the word \"Elephant\"?**"
   ]
  },
  {
   "cell_type": "code",
   "execution_count": null,
   "id": "4a14b511-54df-4c48-8a67-467abc9a6246",
   "metadata": {},
   "outputs": [],
   "source": []
  },
  {
   "cell_type": "markdown",
   "id": "ed32d455-4094-45b1-89cc-0ea7f03e2381",
   "metadata": {},
   "source": [
    "**Q8: Create a function, called \"distance_from_zero\", that returns the absolute value of a provided single argument and prints a statement \"Not Possible\" if the argument provided is not a number.\n",
    "Call the funtion with the values of -10 and \"cat\" to verify it works correctly.**"
   ]
  },
  {
   "cell_type": "code",
   "execution_count": null,
   "id": "692e37eb-ce88-4518-a1d0-42f19ee91b62",
   "metadata": {},
   "outputs": [],
   "source": []
  },
  {
   "cell_type": "markdown",
   "id": "94a7865b-d93e-46f3-bbdc-da90bf9846cd",
   "metadata": {},
   "source": [
    "## Functions"
   ]
  },
  {
   "cell_type": "markdown",
   "id": "69944748-b924-4514-9d58-a94c6499f7b8",
   "metadata": {},
   "source": [
    "**Q1: Define a function that returns a value equal to its argument multiplied by 2.**"
   ]
  },
  {
   "cell_type": "code",
   "execution_count": null,
   "id": "f3b94bcf-faaa-425b-a76f-f252ecb75874",
   "metadata": {},
   "outputs": [],
   "source": []
  },
  {
   "cell_type": "markdown",
   "id": "6d07203f-8490-435a-bd9c-62e786da6459",
   "metadata": {},
   "source": [
    "**Q2: Define a funciton that returns a float value equal to its argument divided by 2.**"
   ]
  },
  {
   "cell_type": "code",
   "execution_count": null,
   "id": "43bcdd0c-5e53-434c-b69b-0a8dbc84dab7",
   "metadata": {},
   "outputs": [],
   "source": []
  },
  {
   "cell_type": "markdown",
   "id": "6d27266a-dc97-4bf5-ade6-d219a8d7a433",
   "metadata": {},
   "source": [
    "**Q3: Define a function, called **compare_the_two()**, with two arguments. If the first one is greater than the second one, let it print \"Greater\". If the second one is greater, it should print \"Less\". Let it print \"Equal\" if the two values are the same number.**"
   ]
  },
  {
   "cell_type": "code",
   "execution_count": null,
   "id": "783f5bb0-17ab-48d2-84c1-c5ebe9604c53",
   "metadata": {},
   "outputs": [],
   "source": []
  },
  {
   "cell_type": "markdown",
   "id": "0c1e5e9d-8619-42a0-90ca-a290a730959a",
   "metadata": {},
   "source": [
    "**Q4: You are provided with the 'nums' list. Complete the code in the cell that follows. Use a while loop to count the number of values lower than 20.** "
   ]
  },
  {
   "cell_type": "code",
   "execution_count": 10,
   "id": "14561115-bb62-4d58-bf0d-652aa6f95a54",
   "metadata": {},
   "outputs": [],
   "source": [
    "nums = [1,12,24,31,51,70,100]"
   ]
  },
  {
   "cell_type": "code",
   "execution_count": null,
   "id": "f4586054-c937-4e35-bd77-a73e28a72f5a",
   "metadata": {},
   "outputs": [],
   "source": []
  },
  {
   "cell_type": "markdown",
   "id": "781d7fff-c0b2-4463-8529-976a82d8abdc",
   "metadata": {},
   "source": [
    "**Q5: Define a function that adds 5 to the parameter. Then, define another function that will multiply the newly obtained number by 3.\n",
    "Verify your code was correct by calling the second function with an argument of 5. \n",
    "Was your output equal to 30?**"
   ]
  },
  {
   "cell_type": "code",
   "execution_count": null,
   "id": "c8a21952-854b-4648-a054-46053764e966",
   "metadata": {},
   "outputs": [],
   "source": []
  }
 ],
 "metadata": {
  "kernelspec": {
   "display_name": "Python 3 (ipykernel)",
   "language": "python",
   "name": "python3"
  },
  "language_info": {
   "codemirror_mode": {
    "name": "ipython",
    "version": 3
   },
   "file_extension": ".py",
   "mimetype": "text/x-python",
   "name": "python",
   "nbconvert_exporter": "python",
   "pygments_lexer": "ipython3",
   "version": "3.11.7"
  }
 },
 "nbformat": 4,
 "nbformat_minor": 5
}
