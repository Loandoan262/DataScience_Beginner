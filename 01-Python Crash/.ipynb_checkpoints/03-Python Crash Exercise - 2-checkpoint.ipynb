{
 "cells": [
  {
   "cell_type": "markdown",
   "id": "5579f39a-0a4f-4e5d-872f-ea7d383684ad",
   "metadata": {},
   "source": [
    "## Variables"
   ]
  },
  {
   "cell_type": "markdown",
   "id": "4df33b1a-a774-4c06-a050-9de325bb0aab",
   "metadata": {},
   "source": [
    "**Q1: Create a variable with name \"x\" and a value of 10. Execute.**"
   ]
  },
  {
   "cell_type": "code",
   "execution_count": null,
   "id": "d1fb216d-dcde-42e2-85ec-a5663f41ecc6",
   "metadata": {},
   "outputs": [],
   "source": []
  },
  {
   "cell_type": "markdown",
   "id": "0f1dca7d-02be-4c5b-a783-3586701b4d6a",
   "metadata": {},
   "source": [
    "**Q1a: Tell the computer to show you the value of that variable.**"
   ]
  },
  {
   "cell_type": "code",
   "execution_count": null,
   "id": "8f63944f-8106-492a-9509-d21a22a455fe",
   "metadata": {},
   "outputs": [],
   "source": []
  },
  {
   "cell_type": "markdown",
   "id": "22875191-851b-494f-8ecc-b4e049c61acd",
   "metadata": {},
   "source": [
    "**Q1b: Can you think of a second way to obtain the same result?**"
   ]
  },
  {
   "cell_type": "code",
   "execution_count": null,
   "id": "7230ab83-fe9c-4fcb-9c64-1b9a57403030",
   "metadata": {},
   "outputs": [],
   "source": []
  },
  {
   "cell_type": "markdown",
   "id": "81431ed9-fb37-421a-8a08-d10d325d3eae",
   "metadata": {},
   "source": [
    "**Q2: On the same line, create four new variables: a,b,c, and d, that are equal to 10, 20, 30, and 40, respectively.**"
   ]
  },
  {
   "cell_type": "code",
   "execution_count": null,
   "id": "8448379c-5274-4bdf-a851-e2302262c457",
   "metadata": {},
   "outputs": [],
   "source": []
  },
  {
   "cell_type": "markdown",
   "id": "6752ba96-138c-4e62-b8c0-049fcd684adc",
   "metadata": {},
   "source": [
    "**Q2a: Tell the computer to show you the value corresponding to the variable \"b\".**"
   ]
  },
  {
   "cell_type": "code",
   "execution_count": null,
   "id": "b03e3258-b8ed-4512-b2b3-275a76694df9",
   "metadata": {},
   "outputs": [],
   "source": []
  },
  {
   "cell_type": "markdown",
   "id": "dc557b1a-c28b-4845-a207-e41f2dcdb4e5",
   "metadata": {},
   "source": [
    "**Q2b: Do the same for \"d\".**"
   ]
  },
  {
   "cell_type": "code",
   "execution_count": null,
   "id": "6ab845eb-eb3a-4069-b651-d0feb657d477",
   "metadata": {},
   "outputs": [],
   "source": []
  },
  {
   "cell_type": "markdown",
   "id": "61549074-0b14-462c-904d-a1ddef580bb0",
   "metadata": {},
   "source": [
    "## Numbers and Boolean Values"
   ]
  },
  {
   "cell_type": "markdown",
   "id": "5cfb425c-d810-4f72-9baf-d80db9c8609a",
   "metadata": {},
   "source": [
    "**Q1: Create a variable equal to \"True\".**"
   ]
  },
  {
   "cell_type": "code",
   "execution_count": null,
   "id": "a9725ee6-095e-4e70-b7c1-a8139f1b3941",
   "metadata": {},
   "outputs": [],
   "source": []
  },
  {
   "cell_type": "markdown",
   "id": "fcc5a0e9-2c7b-4b4a-8316-b7f35f611f50",
   "metadata": {},
   "source": [
    "**Q1a: Check its type.**"
   ]
  },
  {
   "cell_type": "code",
   "execution_count": null,
   "id": "775b07c5-ace2-41d2-8896-6c2764da7970",
   "metadata": {},
   "outputs": [],
   "source": []
  },
  {
   "cell_type": "markdown",
   "id": "c625363f-6537-402d-8783-ef7eb38af641",
   "metadata": {},
   "source": [
    "**Q2: Create a variable equal to 99.**"
   ]
  },
  {
   "cell_type": "code",
   "execution_count": null,
   "id": "c25383ef-9442-4489-82c3-68ebdf050ca7",
   "metadata": {},
   "outputs": [],
   "source": []
  },
  {
   "cell_type": "markdown",
   "id": "55b506a8-63c4-44f8-927e-b57933ef4416",
   "metadata": {},
   "source": [
    "**Q2b: Check its type.**"
   ]
  },
  {
   "cell_type": "code",
   "execution_count": null,
   "id": "c1e7b8ae-d21f-43d7-a679-eda1fa24a3b5",
   "metadata": {},
   "outputs": [],
   "source": []
  },
  {
   "cell_type": "markdown",
   "id": "3cbb36e6-8cec-4170-bc66-76eb8e4c9174",
   "metadata": {},
   "source": [
    "**Q3: Check the type of the value 0.99.**"
   ]
  },
  {
   "cell_type": "code",
   "execution_count": null,
   "id": "2fb00607-64c1-4a43-9f5b-ec009466d818",
   "metadata": {},
   "outputs": [],
   "source": []
  },
  {
   "cell_type": "markdown",
   "id": "e323abe1-a8c3-460d-885d-f6a7c3a811f9",
   "metadata": {},
   "source": [
    "**Q4: Turn 99 into a float.**"
   ]
  },
  {
   "cell_type": "code",
   "execution_count": null,
   "id": "ef560214-1da0-498f-98bb-02a692998293",
   "metadata": {},
   "outputs": [],
   "source": []
  },
  {
   "cell_type": "markdown",
   "id": "372e695d-a786-46b3-aec3-b232b8128466",
   "metadata": {},
   "source": [
    "**Q5: Turn 0.99 into an integer. What value did you get?**"
   ]
  },
  {
   "cell_type": "code",
   "execution_count": null,
   "id": "43f4b4fe-e348-436f-9b90-32e3c9a649cb",
   "metadata": {},
   "outputs": [],
   "source": []
  },
  {
   "cell_type": "markdown",
   "id": "02d70cb3-a543-4203-acbd-38e7b55cb505",
   "metadata": {},
   "source": [
    "## Strings"
   ]
  },
  {
   "cell_type": "markdown",
   "id": "d5a8f898-2940-4442-954d-723d194ff9eb",
   "metadata": {},
   "source": [
    "**Q1: Assign the value of 100 to the variable \"m\".**"
   ]
  },
  {
   "cell_type": "code",
   "execution_count": null,
   "id": "fa4049b8-3bcb-4de2-9ac1-04645820a754",
   "metadata": {},
   "outputs": [],
   "source": []
  },
  {
   "cell_type": "markdown",
   "id": "e127d747-5735-42e5-84ed-6dd173a39097",
   "metadata": {},
   "source": [
    "**Q2: With the help of the variable \"m\", write one line of code where the output after executuion would be** *100 days*."
   ]
  },
  {
   "cell_type": "code",
   "execution_count": null,
   "id": "895a29df-a621-49d1-a9fd-544377254a46",
   "metadata": {},
   "outputs": [],
   "source": []
  },
  {
   "cell_type": "markdown",
   "id": "85e1b7c9-5be8-4512-81cf-994903cbffb9",
   "metadata": {},
   "source": [
    "**Q3: Produce an output equal to** *It's cool, isn't it?*"
   ]
  },
  {
   "cell_type": "code",
   "execution_count": null,
   "id": "6fd5ba78-13e4-4fee-b52e-0242ded15507",
   "metadata": {},
   "outputs": [],
   "source": []
  },
  {
   "cell_type": "markdown",
   "id": "2b877cae-a898-4123-a9f2-2947441907de",
   "metadata": {},
   "source": [
    "**Q4: Fix the string below.**"
   ]
  },
  {
   "cell_type": "code",
   "execution_count": null,
   "id": "6dd26691-bbf7-4717-b5ba-fac06e12c1a0",
   "metadata": {},
   "outputs": [],
   "source": [
    "'Don't be shy"
   ]
  },
  {
   "cell_type": "code",
   "execution_count": null,
   "id": "06b15991-f60d-49ab-a6d0-48fbadd959cd",
   "metadata": {},
   "outputs": [],
   "source": []
  },
  {
   "cell_type": "markdown",
   "id": "d5692502-457e-4af6-aad7-afdf677c3bda",
   "metadata": {},
   "source": [
    "## Arithmetic operators"
   ]
  },
  {
   "cell_type": "markdown",
   "id": "651fff88-4457-4226-9047-9770ca0b7129",
   "metadata": {},
   "source": [
    "**Q1: Combine 15 and 23.**"
   ]
  },
  {
   "cell_type": "code",
   "execution_count": null,
   "id": "8ff85063-bcf2-4a3d-842e-5a5026267f53",
   "metadata": {},
   "outputs": [],
   "source": []
  },
  {
   "cell_type": "markdown",
   "id": "47b2d2b8-57ae-4dde-bc0a-083cd1e1090c",
   "metadata": {},
   "source": [
    "**Q2: Subtract 50 from 26.**"
   ]
  },
  {
   "cell_type": "code",
   "execution_count": null,
   "id": "fbc00fcd-2a49-4226-b489-3c0b18dc32a8",
   "metadata": {},
   "outputs": [],
   "source": []
  },
  {
   "cell_type": "markdown",
   "id": "2a454977-546a-4023-8251-f8ae53b20f92",
   "metadata": {},
   "source": [
    "**Q3: Divide 20 by 4.**"
   ]
  },
  {
   "cell_type": "code",
   "execution_count": null,
   "id": "693e7e9b-e6a3-4e2d-8853-608a08db7842",
   "metadata": {},
   "outputs": [],
   "source": []
  },
  {
   "cell_type": "markdown",
   "id": "5f19a287-2cca-4aed-880a-b2ef82dd7374",
   "metadata": {},
   "source": [
    "**Q4: Divide 22 by 4.**"
   ]
  },
  {
   "cell_type": "code",
   "execution_count": null,
   "id": "2764b90c-514e-483f-8b0b-b7ce7e9ce164",
   "metadata": {},
   "outputs": [],
   "source": []
  },
  {
   "cell_type": "markdown",
   "id": "5b1888d0-b37e-47c3-8517-e2e89678c5d9",
   "metadata": {},
   "source": [
    "**Q5: Obtain the remainder of the division of 22 by 4.**"
   ]
  },
  {
   "cell_type": "code",
   "execution_count": null,
   "id": "4a477995-394a-4281-9ad9-6c0fb9aa6a5c",
   "metadata": {},
   "outputs": [],
   "source": []
  },
  {
   "cell_type": "markdown",
   "id": "618f9a28-5322-4f54-9a57-df05e188f8f9",
   "metadata": {},
   "source": [
    "**Q6: Divide the float 22 by 4.**"
   ]
  },
  {
   "cell_type": "code",
   "execution_count": null,
   "id": "f343bedd-385b-4a28-8876-3f29f1893f7c",
   "metadata": {},
   "outputs": [],
   "source": []
  },
  {
   "cell_type": "markdown",
   "id": "370f4b40-de4d-4826-93c9-473f111cd688",
   "metadata": {},
   "source": [
    "**Q7: Multiply 6 by 8.**"
   ]
  },
  {
   "cell_type": "code",
   "execution_count": null,
   "id": "59381687-012f-474b-89b8-b86bcac86d13",
   "metadata": {},
   "outputs": [],
   "source": []
  },
  {
   "cell_type": "markdown",
   "id": "71844580-43b8-45d6-b968-ffdb3585c8c2",
   "metadata": {},
   "source": [
    "**Q8: Raise 15 to the power of 2.**"
   ]
  },
  {
   "cell_type": "code",
   "execution_count": null,
   "id": "ca1bfc77-8029-4012-abda-0ae61ec06b92",
   "metadata": {},
   "outputs": [],
   "source": []
  },
  {
   "cell_type": "markdown",
   "id": "135d25c4-4343-49b6-a8ba-a919d0da6b11",
   "metadata": {},
   "source": [
    "## Comparison Operators"
   ]
  },
  {
   "cell_type": "markdown",
   "id": "0968f86a-2bb3-4c2e-9420-2d18a04e72d9",
   "metadata": {},
   "source": [
    "**Q1: Demonstrate that 100 is not equal to 98.**"
   ]
  },
  {
   "cell_type": "code",
   "execution_count": null,
   "id": "b1f7592c-6aff-4384-acb5-26fb1cbab02f",
   "metadata": {},
   "outputs": [],
   "source": []
  },
  {
   "cell_type": "markdown",
   "id": "55a86915-ce63-48f1-b81c-57887cb9ab21",
   "metadata": {},
   "source": [
    "## Reassign Values"
   ]
  },
  {
   "cell_type": "markdown",
   "id": "bd002a5b-f970-495e-9bb7-3f12be9f21b7",
   "metadata": {},
   "source": [
    "**Q1: Assign the value of 14 to a variable p.**"
   ]
  },
  {
   "cell_type": "code",
   "execution_count": null,
   "id": "abeb7798-0cc7-419c-a6c9-43b43b7fbb8b",
   "metadata": {},
   "outputs": [],
   "source": []
  },
  {
   "cell_type": "markdown",
   "id": "7eb31439-3948-4b19-b566-eeb5c1856c2e",
   "metadata": {},
   "source": [
    "**Q1a: Calculate p + 10.**"
   ]
  },
  {
   "cell_type": "code",
   "execution_count": null,
   "id": "250e57be-723e-4abd-9a2f-31f2453990c3",
   "metadata": {},
   "outputs": [],
   "source": []
  },
  {
   "cell_type": "markdown",
   "id": "b845c689-abbf-491e-a7f5-a378c38f82cb",
   "metadata": {},
   "source": [
    "**Q1b: Now, assign 30 to the variable p.**"
   ]
  },
  {
   "cell_type": "code",
   "execution_count": null,
   "id": "ca20761c-0d12-4b41-88db-92806f76a492",
   "metadata": {},
   "outputs": [],
   "source": []
  },
  {
   "cell_type": "markdown",
   "id": "ff393b4d-b59c-4e08-8008-4b67c7e824bf",
   "metadata": {},
   "source": [
    "**Q1c: Calculate p + 10.**"
   ]
  },
  {
   "cell_type": "code",
   "execution_count": null,
   "id": "9e368d34-3c37-48ad-ab90-1a703cc8d182",
   "metadata": {},
   "outputs": [],
   "source": []
  },
  {
   "cell_type": "markdown",
   "id": "1b2a234c-207a-431e-bb02-ae38394a0da8",
   "metadata": {},
   "source": [
    "**Observe how the value of p is always the last one you have assigned.**"
   ]
  },
  {
   "cell_type": "markdown",
   "id": "5328fdc6-5d37-409f-a2ef-29f7b688f5b1",
   "metadata": {},
   "source": [
    "## Indexing Elements"
   ]
  },
  {
   "cell_type": "markdown",
   "id": "fa608f6b-2e6b-4886-b6cf-4eba085a8e56",
   "metadata": {},
   "source": [
    "**Q1: Extract the letter 'B' from \"Bingo!\".**"
   ]
  },
  {
   "cell_type": "code",
   "execution_count": null,
   "id": "933396ad-9baf-4d91-8280-3ff17c0313be",
   "metadata": {},
   "outputs": [],
   "source": []
  },
  {
   "cell_type": "markdown",
   "id": "b035aa34-9a2e-4d90-9955-beb46a496c4f",
   "metadata": {},
   "source": [
    "**Q2: Extract the letter \"u\" from \"Constitution\".**"
   ]
  },
  {
   "cell_type": "code",
   "execution_count": null,
   "id": "e9800f4a-d5da-4730-b002-d9deb4244182",
   "metadata": {},
   "outputs": [],
   "source": []
  },
  {
   "cell_type": "markdown",
   "id": "1b8e80b7-b6eb-4962-8c56-4d762a900215",
   "metadata": {},
   "source": [
    "## Lists"
   ]
  },
  {
   "cell_type": "markdown",
   "id": "509afe28-457d-40b2-87cc-887c6fd250a1",
   "metadata": {},
   "source": [
    "**Q1: Create a list, called \"numbers\". Let it contain the numbers 10, 25, 40, and 50.**"
   ]
  },
  {
   "cell_type": "code",
   "execution_count": null,
   "id": "fe6d7c98-1d4d-4f3b-8971-6ac8202e27ba",
   "metadata": {},
   "outputs": [],
   "source": []
  },
  {
   "cell_type": "markdown",
   "id": "2ea27472-e5f9-4d0d-b15a-97e488e39ab5",
   "metadata": {},
   "source": [
    "**Q1a: Print the element at index 2 from the list.**"
   ]
  },
  {
   "cell_type": "code",
   "execution_count": null,
   "id": "8267dda2-f817-4497-8397-753462d0c472",
   "metadata": {},
   "outputs": [],
   "source": []
  },
  {
   "cell_type": "markdown",
   "id": "b5036ee0-0525-443c-900a-18764c19d469",
   "metadata": {},
   "source": [
    "**Q1b: Print the 0th element.**"
   ]
  },
  {
   "cell_type": "code",
   "execution_count": null,
   "id": "bab3e574-7305-407c-bdd8-21a8064cd577",
   "metadata": {},
   "outputs": [],
   "source": []
  },
  {
   "cell_type": "markdown",
   "id": "990a3f6e-1003-4054-a460-28b8a8521935",
   "metadata": {},
   "source": [
    "**Q1c: Print the third-to-last element using a minus sign in the brackets.**"
   ]
  },
  {
   "cell_type": "code",
   "execution_count": null,
   "id": "31e7c9c0-7daf-4632-8abf-4e2223f94693",
   "metadata": {},
   "outputs": [],
   "source": []
  },
  {
   "cell_type": "markdown",
   "id": "c03172a6-978a-4b12-ac5a-bce7d1b858a8",
   "metadata": {},
   "source": [
    "**Q1d: Substitute the number 10 with the number 15.**"
   ]
  },
  {
   "cell_type": "code",
   "execution_count": null,
   "id": "934c669e-3e4f-401c-9696-745178c7012b",
   "metadata": {},
   "outputs": [],
   "source": []
  },
  {
   "cell_type": "markdown",
   "id": "775bacb9-f974-49bf-94ad-a7952baab6c7",
   "metadata": {},
   "source": [
    "**Q1e: Delete the number 25 from the \"numbers\" list.**"
   ]
  },
  {
   "cell_type": "code",
   "execution_count": null,
   "id": "722c9106-d395-4391-85bf-e46d24248b7c",
   "metadata": {},
   "outputs": [],
   "source": []
  },
  {
   "cell_type": "markdown",
   "id": "685dfa6b-bced-42cd-8a77-0ff84a247848",
   "metadata": {},
   "source": [
    "**Q2: numbers = [15, 40, 50, 100, 115, 140]** "
   ]
  },
  {
   "cell_type": "code",
   "execution_count": 6,
   "id": "070d6e60-5a97-4553-8a77-d0f8563f6b5f",
   "metadata": {},
   "outputs": [],
   "source": [
    "numbers = [15, 40, 50, 100, 115, 140]"
   ]
  },
  {
   "cell_type": "markdown",
   "id": "e18e7f58-1d81-4a84-9fde-e124823e7c61",
   "metadata": {},
   "source": [
    "**Q2a: Using list slicing, obtain the numbers 100 and 115.**"
   ]
  },
  {
   "cell_type": "code",
   "execution_count": null,
   "id": "da9da40b-0901-4f02-9946-4dfab97ab664",
   "metadata": {},
   "outputs": [],
   "source": []
  },
  {
   "cell_type": "markdown",
   "id": "5f90a1a4-6b4d-4d02-a0c0-1ceff5cb8898",
   "metadata": {},
   "source": [
    "**Q2b: Using slicing, extract the first four elements from the list.**"
   ]
  },
  {
   "cell_type": "code",
   "execution_count": null,
   "id": "8813ea16-0fc1-4ea7-8465-88b1847433ee",
   "metadata": {},
   "outputs": [],
   "source": []
  },
  {
   "cell_type": "markdown",
   "id": "7d60b83f-baa9-461c-a102-41970a008fa4",
   "metadata": {},
   "source": [
    "**Q2c: Using slicing, extract all the elements from the list from the 3rd position onwards.**"
   ]
  },
  {
   "cell_type": "code",
   "execution_count": null,
   "id": "3b7fd53c-cdd1-4064-8cde-12a4ad2a8927",
   "metadata": {},
   "outputs": [],
   "source": []
  },
  {
   "cell_type": "markdown",
   "id": "c3b3188f-f687-42c9-aa35-e052c9cdb179",
   "metadata": {},
   "source": [
    "**Q2d: Using slicing, extract the last 4 elements from the list.**"
   ]
  },
  {
   "cell_type": "code",
   "execution_count": null,
   "id": "b4f04aab-8768-4ab8-bf4c-3779f24b01ed",
   "metadata": {},
   "outputs": [],
   "source": []
  },
  {
   "cell_type": "markdown",
   "id": "2b476491-a8a5-4a51-b30a-f67e39ccc877",
   "metadata": {},
   "source": [
    "**Q2e: Which is the position (index) of the value 15?**"
   ]
  },
  {
   "cell_type": "code",
   "execution_count": null,
   "id": "f011e9b4-bfad-4fce-b4ef-0dd37104c85b",
   "metadata": {},
   "outputs": [],
   "source": []
  },
  {
   "cell_type": "markdown",
   "id": "626e8ec8-a7c0-4227-9aea-94cdea92d8d9",
   "metadata": {},
   "source": [
    "**Q2f: Create a list, called \"two_numbers\". Let its elements be the values 1 and 2. Then, create a new one, named \"all_numbers\", that will containt both the \"numbers\" and the \"two_numbers\" lists.**"
   ]
  },
  {
   "cell_type": "code",
   "execution_count": null,
   "id": "2ab035e8-ee10-4c57-ad80-bb207747e9e4",
   "metadata": {},
   "outputs": [],
   "source": []
  },
  {
   "cell_type": "markdown",
   "id": "f6b23bb7-8b5a-4939-9cd5-250fe78878c5",
   "metadata": {},
   "source": [
    "**Q2g: Sort all the numbers in the \"Numbers\" list from the largest to the smallest.**"
   ]
  },
  {
   "cell_type": "code",
   "execution_count": null,
   "id": "c3ea1ac1-de3c-48cc-9d9d-f198c1ca1392",
   "metadata": {},
   "outputs": [],
   "source": []
  },
  {
   "cell_type": "markdown",
   "id": "35ce08dd-731c-484e-acba-5fa67c8b4009",
   "metadata": {},
   "source": [
    "## Tuples"
   ]
  },
  {
   "cell_type": "markdown",
   "id": "045b5290-449c-4563-8df9-5ca127b307d2",
   "metadata": {},
   "source": [
    "**Q1: Create a tuple, called \"Cars\", with elements \"BMW\", \"Dodge\", and \"Ford\".**"
   ]
  },
  {
   "cell_type": "code",
   "execution_count": null,
   "id": "59ed862f-1908-4edd-8051-a2e31ec59957",
   "metadata": {},
   "outputs": [],
   "source": []
  },
  {
   "cell_type": "markdown",
   "id": "14e55dfa-0a82-40f6-adc2-89aa1ad7a4c8",
   "metadata": {},
   "source": [
    "**Q1a: Access the second element of this tuple.**"
   ]
  },
  {
   "cell_type": "code",
   "execution_count": null,
   "id": "94a074e0-f606-493c-b362-c9bb6131bb78",
   "metadata": {},
   "outputs": [],
   "source": []
  },
  {
   "cell_type": "markdown",
   "id": "de902479-3c39-4e05-a5fe-a1319e74e4e7",
   "metadata": {},
   "source": [
    "**Q2: Call a method that would allow you to extract the provided name and age separately. Then print the \"name\" and \"age\" values to see if you worked correctly.**"
   ]
  },
  {
   "cell_type": "code",
   "execution_count": null,
   "id": "1b20cbcd-df9e-4649-a5ed-e2180f9b380b",
   "metadata": {},
   "outputs": [],
   "source": [
    "name, age = 'Peter,24'"
   ]
  },
  {
   "cell_type": "code",
   "execution_count": null,
   "id": "8a61f064-97db-49ed-950b-2bb5a6f811bd",
   "metadata": {},
   "outputs": [],
   "source": []
  },
  {
   "cell_type": "markdown",
   "id": "680b9a01-2d32-4185-bcd0-af569bdef4ab",
   "metadata": {},
   "source": [
    "**Q3: Create a function that takes as arguments the two values of a rectangle and then returns the Area and the Perimeter of the rectangle.\n",
    "Call the function with arguments 2 and 10 to verify it worked correctly.**"
   ]
  },
  {
   "cell_type": "code",
   "execution_count": null,
   "id": "0581fc12-6000-4daf-b11f-2058c21f2e9c",
   "metadata": {},
   "outputs": [],
   "source": []
  },
  {
   "cell_type": "markdown",
   "id": "92e16b2b-f99c-4212-8140-1a29b299409f",
   "metadata": {},
   "source": [
    "## Create Lists with the range() Function"
   ]
  },
  {
   "cell_type": "markdown",
   "id": "936862d5-3963-4cda-868e-ad1130e4ef60",
   "metadata": {},
   "source": [
    "**Q1: Use the range() function to create a list with all numbers from 1 to 10.**"
   ]
  },
  {
   "cell_type": "code",
   "execution_count": null,
   "id": "27e37b5d-2922-4a32-abda-9cfe6d699d43",
   "metadata": {},
   "outputs": [],
   "source": []
  },
  {
   "cell_type": "markdown",
   "id": "593d9dc4-5b7d-4bdf-88dd-4ca875f870e9",
   "metadata": {},
   "source": [
    "**Q2: Use the range() function to create a list with all numbers from 0 to 19.**"
   ]
  },
  {
   "cell_type": "code",
   "execution_count": null,
   "id": "cd33f21c-9a21-4552-aa33-731129121ab3",
   "metadata": {},
   "outputs": [],
   "source": []
  },
  {
   "cell_type": "markdown",
   "id": "bc50381d-0836-48c0-8ac3-bdbaeaf4187c",
   "metadata": {},
   "source": [
    "**Q3: Use the range function to create a list with all even numbers from 0 to 30 included.**"
   ]
  },
  {
   "cell_type": "code",
   "execution_count": null,
   "id": "dc8a7876-2318-44f4-b4c5-ad12190992a2",
   "metadata": {},
   "outputs": [],
   "source": []
  },
  {
   "cell_type": "markdown",
   "id": "521aa990-59df-4ee1-a460-f437d239fbc0",
   "metadata": {},
   "source": []
  }
 ],
 "metadata": {
  "kernelspec": {
   "display_name": "Python 3 (ipykernel)",
   "language": "python",
   "name": "python3"
  },
  "language_info": {
   "codemirror_mode": {
    "name": "ipython",
    "version": 3
   },
   "file_extension": ".py",
   "mimetype": "text/x-python",
   "name": "python",
   "nbconvert_exporter": "python",
   "pygments_lexer": "ipython3",
   "version": "3.11.7"
  }
 },
 "nbformat": 4,
 "nbformat_minor": 5
}
