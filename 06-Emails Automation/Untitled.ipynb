{
 "cells": [
  {
   "cell_type": "code",
   "execution_count": 1,
   "id": "dfa79f3a-8942-4332-8dd3-27c6e50f20a6",
   "metadata": {},
   "outputs": [
    {
     "name": "stdout",
     "output_type": "stream",
     "text": [
      "[NbConvertApp] Converting notebook 02-SendingEmailEveryDay.ipynb to python\n",
      "[NbConvertApp] Writing 1190 bytes to 02-SendingEmailEveryDay.py\n"
     ]
    }
   ],
   "source": [
    "!jupyter nbconvert --to python 02-SendingEmailEveryDay.ipynb"
   ]
  },
  {
   "cell_type": "code",
   "execution_count": null,
   "id": "f692257d-68f0-4a4e-b229-09640377752d",
   "metadata": {},
   "outputs": [],
   "source": []
  }
 ],
 "metadata": {
  "kernelspec": {
   "display_name": "Python 3 (ipykernel)",
   "language": "python",
   "name": "python3"
  },
  "language_info": {
   "codemirror_mode": {
    "name": "ipython",
    "version": 3
   },
   "file_extension": ".py",
   "mimetype": "text/x-python",
   "name": "python",
   "nbconvert_exporter": "python",
   "pygments_lexer": "ipython3",
   "version": "3.11.7"
  }
 },
 "nbformat": 4,
 "nbformat_minor": 5
}
