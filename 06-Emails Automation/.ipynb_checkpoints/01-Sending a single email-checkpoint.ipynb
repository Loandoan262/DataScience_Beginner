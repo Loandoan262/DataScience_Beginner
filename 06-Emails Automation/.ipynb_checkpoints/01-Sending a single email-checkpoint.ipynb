{
 "cells": [
  {
   "cell_type": "markdown",
   "id": "b23de207-d54c-4f25-bf5f-71aecf81501f",
   "metadata": {},
   "source": [
    "# Send a Single Email"
   ]
  },
  {
   "cell_type": "code",
   "execution_count": 1,
   "id": "1b715c14-7182-44c1-b676-28e178c3f173",
   "metadata": {},
   "outputs": [],
   "source": [
    "# Search App Password gmail -> create key -> copy key without space \n",
    "# https://myaccount.google.com/apppasswords?rapt=AEjHL4MOVZeE9iuJUxpOTTwmwlUll4eJvw4ee5FzN8etXsDaQXajf2Utr1Qq24SNyk3ZhYvFVh9WKKuLctO33f5q7nXQTJPvtZf4peM__xa7AM99Hcv-nUA\n",
    "# In Terminal use command: export EMAIL_PASSWORD=your key from App Password\n",
    "# To delete the variable in your env, use command: unset EMAIL_PASSWORD\n",
    "# If you want to send emails from Outlook or Hotmail, use the smtplib package instead of yagmail\n",
    "import os\n",
    "import yagmail"
   ]
  },
  {
   "cell_type": "code",
   "execution_count": 2,
   "id": "c2d5827a-8c79-4136-afe2-98ce3adaa9c9",
   "metadata": {},
   "outputs": [],
   "source": [
    "pw = os.getenv('EMAIL_PASSWORD')"
   ]
  },
  {
   "cell_type": "code",
   "execution_count": 4,
   "id": "7b82e440-15e3-404e-9962-2501f7e0874e",
   "metadata": {},
   "outputs": [
    {
     "name": "stdout",
     "output_type": "stream",
     "text": [
      "Email sent!\n"
     ]
    }
   ],
   "source": [
    "sender = \"minhloan.ftu@gmail.com\"\n",
    "receiver = \"loandoan.hsrw@gmail.com\"\n",
    "\n",
    "subject = \"This is the subject\"\n",
    "\n",
    "contents = \"\"\" \n",
    "Here is the content of the email!\n",
    "\"\"\"\n",
    "\n",
    "yag = yagmail.SMTP(user=sender, password=os.getenv('EMAIL_PASSWORD'))\n",
    "yag.send(to=receiver, subject=subject, contents=contents)\n",
    "print(\"Email sent!\")"
   ]
  },
  {
   "cell_type": "markdown",
   "id": "3a90af55-01bd-4fc5-91ad-78adf65008a8",
   "metadata": {},
   "source": [
    "# Send Emails to a csv List of Contacts"
   ]
  },
  {
   "cell_type": "code",
   "execution_count": 5,
   "id": "67275733-4887-4248-be03-579d95ddfa24",
   "metadata": {},
   "outputs": [],
   "source": [
    "import pandas as pd"
   ]
  },
  {
   "cell_type": "code",
   "execution_count": 6,
   "id": "be6675e6-ec11-4c8c-8605-cc073381389e",
   "metadata": {},
   "outputs": [
    {
     "data": {
      "text/html": [
       "<div>\n",
       "<style scoped>\n",
       "    .dataframe tbody tr th:only-of-type {\n",
       "        vertical-align: middle;\n",
       "    }\n",
       "\n",
       "    .dataframe tbody tr th {\n",
       "        vertical-align: top;\n",
       "    }\n",
       "\n",
       "    .dataframe thead th {\n",
       "        text-align: right;\n",
       "    }\n",
       "</style>\n",
       "<table border=\"1\" class=\"dataframe\">\n",
       "  <thead>\n",
       "    <tr style=\"text-align: right;\">\n",
       "      <th></th>\n",
       "      <th>name</th>\n",
       "      <th>email</th>\n",
       "    </tr>\n",
       "  </thead>\n",
       "  <tbody>\n",
       "    <tr>\n",
       "      <th>0</th>\n",
       "      <td>Loan</td>\n",
       "      <td>loandoan.hsrw@gmail.com</td>\n",
       "    </tr>\n",
       "    <tr>\n",
       "      <th>1</th>\n",
       "      <td>Lilly</td>\n",
       "      <td>veganmath0@gmail.com</td>\n",
       "    </tr>\n",
       "  </tbody>\n",
       "</table>\n",
       "</div>"
      ],
      "text/plain": [
       "    name                     email\n",
       "0   Loan   loandoan.hsrw@gmail.com\n",
       "1  Lilly      veganmath0@gmail.com"
      ]
     },
     "execution_count": 6,
     "metadata": {},
     "output_type": "execute_result"
    }
   ],
   "source": [
    "contacts = pd.read_csv(\"contacts.csv\")\n",
    "contacts"
   ]
  },
  {
   "cell_type": "code",
   "execution_count": 12,
   "id": "1f57d0ad-973d-47e0-917f-6386df4debb2",
   "metadata": {},
   "outputs": [
    {
     "name": "stdout",
     "output_type": "stream",
     "text": [
      "index:  0\n",
      "row_name:  Loan\n",
      "<class 'pandas.core.series.Series'>\n",
      "Email sent!\n",
      "index:  1\n",
      "row_name:  Lilly\n",
      "<class 'pandas.core.series.Series'>\n",
      "Email sent!\n"
     ]
    }
   ],
   "source": [
    "for index, row in contacts.iterrows():\n",
    "    print(\"index: \", index)\n",
    "    print(\"row: \", row)\n",
    "    print(type(row))\n",
    "    contents = \"Hi {}, sorry for spam!\".format(row[\"name\"])\n",
    "    yag = yagmail.SMTP(user=sender, password=os.getenv('EMAIL_PASSWORD'))\n",
    "    #yag.send(to=row[\"email\"], subject=subject, contents=contents)\n",
    "    print(\"Email sent!\")\n",
    "    "
   ]
  },
  {
   "cell_type": "code",
   "execution_count": null,
   "id": "fc7c4f03-45e1-42b2-990b-1ea4a6d51c18",
   "metadata": {},
   "outputs": [],
   "source": []
  }
 ],
 "metadata": {
  "kernelspec": {
   "display_name": "Python 3 (ipykernel)",
   "language": "python",
   "name": "python3"
  },
  "language_info": {
   "codemirror_mode": {
    "name": "ipython",
    "version": 3
   },
   "file_extension": ".py",
   "mimetype": "text/x-python",
   "name": "python",
   "nbconvert_exporter": "python",
   "pygments_lexer": "ipython3",
   "version": "3.11.7"
  }
 },
 "nbformat": 4,
 "nbformat_minor": 5
}
